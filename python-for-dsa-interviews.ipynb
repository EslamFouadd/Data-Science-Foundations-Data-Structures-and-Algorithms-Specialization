{
 "cells": [
  {
   "cell_type": "markdown",
   "id": "f3922871",
   "metadata": {
    "papermill": {
     "duration": 0.030556,
     "end_time": "2022-08-24T05:40:57.818164",
     "exception": false,
     "start_time": "2022-08-24T05:40:57.787608",
     "status": "completed"
    },
    "tags": []
   },
   "source": [
    "## Python for Data Structures and Algorithms Interview.\n",
    "\n",
    "\n",
    "\n",
    "\n",
    "\n",
    "Hi All ✌️, continuing to write articles on Kaggle after a very long time.\n",
    "\n",
    "In my previous kernels, I summarized basic [Pandas](https://www.kaggle.com/code/rajmehra03/a-complete-pandas-tutorial), [Numpy](https://www.kaggle.com/code/rajmehra03/a-complete-guide-to-numpy/) operations.\n",
    "\n",
    "In this one, I cover another interesting and important topic which is **Python for DSA Interviews**. More and more companies are taking Python coding exercises and in such scenario it is crucial to have good command over data structures and algorithms in Python language.\n",
    "\n",
    "**We will cover all basic data structures and see how to implement them in Python. Also, I shall include a sample program for each to show how to manipulate that data strcuture.**\n",
    "\n",
    "As usual, hope you find it useful, and if you do, make sure to drop a 👍.\n",
    "\n",
    "#### Let's get started!"
   ]
  },
  {
   "cell_type": "code",
   "execution_count": null,
   "id": "b3135838",
   "metadata": {
    "papermill": {
     "duration": 0.024691,
     "end_time": "2022-08-24T05:40:57.867943",
     "exception": false,
     "start_time": "2022-08-24T05:40:57.843252",
     "status": "completed"
    },
    "tags": []
   },
   "outputs": [],
   "source": []
  },
  {
   "cell_type": "markdown",
   "id": "95e37c34",
   "metadata": {
    "papermill": {
     "duration": 0.024972,
     "end_time": "2022-08-24T05:40:57.918359",
     "exception": false,
     "start_time": "2022-08-24T05:40:57.893387",
     "status": "completed"
    },
    "tags": []
   },
   "source": [
    "## Table of Contents(ToC):\n",
    "\n",
    "\n",
    "#### 1. [Array](#content1)\n",
    " \n",
    "#### 2. [Strings](#content2)\n",
    "\n",
    "#### 3. [Stack](#content3)\n",
    "\n",
    "#### 4. [Queue](#content4)\n",
    "\n",
    "#### 5. [Linked List](#content5)\n",
    "\n",
    "#### 6. [Tree (Binary Tree, n-ary tree etc...)](#content6)\n",
    "\n",
    "#### 7. [Binary Search Tree(BST)](#content7)\n",
    "\n",
    "#### 8. [Heap](#content8)\n",
    "\n",
    "#### 9. [Graphs](#content9)\n",
    "\n",
    "#### 10. [Sets](#content10)\n",
    "\n",
    "#### 11. [Hashmaps](#content11)"
   ]
  },
  {
   "cell_type": "code",
   "execution_count": null,
   "id": "3258c884",
   "metadata": {
    "papermill": {
     "duration": 0.024693,
     "end_time": "2022-08-24T05:40:57.969506",
     "exception": false,
     "start_time": "2022-08-24T05:40:57.944813",
     "status": "completed"
    },
    "tags": []
   },
   "outputs": [],
   "source": []
  },
  {
   "cell_type": "markdown",
   "id": "c0d8ad06",
   "metadata": {
    "papermill": {
     "duration": 0.024856,
     "end_time": "2022-08-24T05:40:58.019730",
     "exception": false,
     "start_time": "2022-08-24T05:40:57.994874",
     "status": "completed"
    },
    "tags": []
   },
   "source": [
    "#### Importing Modules."
   ]
  },
  {
   "cell_type": "code",
   "execution_count": 1,
   "id": "e1a08d64",
   "metadata": {
    "_cell_guid": "b1076dfc-b9ad-4769-8c92-a6c4dae69d19",
    "_uuid": "8f2839f25d086af736a60e9eeb907d3b93b6e0e5",
    "execution": {
     "iopub.execute_input": "2022-08-24T05:40:58.072962Z",
     "iopub.status.busy": "2022-08-24T05:40:58.072471Z",
     "iopub.status.idle": "2022-08-24T05:40:58.085462Z",
     "shell.execute_reply": "2022-08-24T05:40:58.084446Z"
    },
    "papermill": {
     "duration": 0.042872,
     "end_time": "2022-08-24T05:40:58.088110",
     "exception": false,
     "start_time": "2022-08-24T05:40:58.045238",
     "status": "completed"
    },
    "tags": []
   },
   "outputs": [],
   "source": [
    "# This Python 3 environment comes with many helpful analytics libraries installed\n",
    "# It is defined by the kaggle/python Docker image: https://github.com/kaggle/docker-python\n",
    "# For example, here's several helpful packages to load\n",
    "\n",
    "import numpy as np # linear algebra\n",
    "import pandas as pd # data processing, CSV file I/O (e.g. pd.read_csv)\n",
    "import sys\n",
    "\n",
    "# Input data files are available in the read-only \"../input/\" directory\n",
    "# For example, running this (by clicking run or pressing Shift+Enter) will list all files under the input directory\n",
    "\n",
    "import os\n",
    "# for dirname, _, filenames in os.walk('/kaggle/input'):\n",
    "#     for filename in filenames:\n",
    "#         print(os.path.join(dirname, filename))\n",
    "\n",
    "# You can write up to 20GB to the current directory (/kaggle/working/) that gets preserved as output when you create a version using \"Save & Run All\" \n",
    "# You can also write temporary files to /kaggle/temp/, but they won't be saved outside of the current session"
   ]
  },
  {
   "cell_type": "code",
   "execution_count": null,
   "id": "379150e5",
   "metadata": {
    "papermill": {
     "duration": 0.024909,
     "end_time": "2022-08-24T05:40:58.138454",
     "exception": false,
     "start_time": "2022-08-24T05:40:58.113545",
     "status": "completed"
    },
    "tags": []
   },
   "outputs": [],
   "source": []
  },
  {
   "cell_type": "markdown",
   "id": "10d5b887",
   "metadata": {
    "papermill": {
     "duration": 0.025193,
     "end_time": "2022-08-24T05:40:58.189220",
     "exception": false,
     "start_time": "2022-08-24T05:40:58.164027",
     "status": "completed"
    },
    "tags": []
   },
   "source": [
    "<a id=\"content1\"></a>\n",
    "## 1. Array"
   ]
  },
  {
   "cell_type": "markdown",
   "id": "92a1e91b",
   "metadata": {
    "papermill": {
     "duration": 0.024898,
     "end_time": "2022-08-24T05:40:58.239395",
     "exception": false,
     "start_time": "2022-08-24T05:40:58.214497",
     "status": "completed"
    },
    "tags": []
   },
   "source": [
    "To implement an array, we can simply use a list."
   ]
  },
  {
   "cell_type": "code",
   "execution_count": 2,
   "id": "74caaffd",
   "metadata": {
    "execution": {
     "iopub.execute_input": "2022-08-24T05:40:58.291700Z",
     "iopub.status.busy": "2022-08-24T05:40:58.291223Z",
     "iopub.status.idle": "2022-08-24T05:40:58.296873Z",
     "shell.execute_reply": "2022-08-24T05:40:58.295719Z"
    },
    "papermill": {
     "duration": 0.034956,
     "end_time": "2022-08-24T05:40:58.299472",
     "exception": false,
     "start_time": "2022-08-24T05:40:58.264516",
     "status": "completed"
    },
    "tags": []
   },
   "outputs": [],
   "source": [
    "arr=[5,7,4,2,3,8,11,6]"
   ]
  },
  {
   "cell_type": "code",
   "execution_count": 3,
   "id": "1e8d0898",
   "metadata": {
    "execution": {
     "iopub.execute_input": "2022-08-24T05:40:58.352176Z",
     "iopub.status.busy": "2022-08-24T05:40:58.350996Z",
     "iopub.status.idle": "2022-08-24T05:40:58.360936Z",
     "shell.execute_reply": "2022-08-24T05:40:58.359721Z"
    },
    "papermill": {
     "duration": 0.038801,
     "end_time": "2022-08-24T05:40:58.363439",
     "exception": false,
     "start_time": "2022-08-24T05:40:58.324638",
     "status": "completed"
    },
    "tags": []
   },
   "outputs": [
    {
     "data": {
      "text/plain": [
       "[5, 7, 4, 2, 3, 8, 11, 6, 9]"
      ]
     },
     "execution_count": 3,
     "metadata": {},
     "output_type": "execute_result"
    }
   ],
   "source": [
    "# Insert an element\n",
    "arr.append(9)\n",
    "arr"
   ]
  },
  {
   "cell_type": "code",
   "execution_count": 4,
   "id": "a6b9cbbd",
   "metadata": {
    "execution": {
     "iopub.execute_input": "2022-08-24T05:40:58.416401Z",
     "iopub.status.busy": "2022-08-24T05:40:58.415631Z",
     "iopub.status.idle": "2022-08-24T05:40:58.423082Z",
     "shell.execute_reply": "2022-08-24T05:40:58.421925Z"
    },
    "papermill": {
     "duration": 0.036337,
     "end_time": "2022-08-24T05:40:58.425376",
     "exception": false,
     "start_time": "2022-08-24T05:40:58.389039",
     "status": "completed"
    },
    "tags": []
   },
   "outputs": [
    {
     "data": {
      "text/plain": [
       "[5, 7, 4, 2, 3, 11, 6, 9]"
      ]
     },
     "execution_count": 4,
     "metadata": {},
     "output_type": "execute_result"
    }
   ],
   "source": [
    "# Delete a particular element\n",
    "key=8\n",
    "arr.remove(key)\n",
    "arr"
   ]
  },
  {
   "cell_type": "code",
   "execution_count": 5,
   "id": "2439405b",
   "metadata": {
    "execution": {
     "iopub.execute_input": "2022-08-24T05:40:58.478205Z",
     "iopub.status.busy": "2022-08-24T05:40:58.477435Z",
     "iopub.status.idle": "2022-08-24T05:40:58.486394Z",
     "shell.execute_reply": "2022-08-24T05:40:58.485161Z"
    },
    "papermill": {
     "duration": 0.039163,
     "end_time": "2022-08-24T05:40:58.489881",
     "exception": false,
     "start_time": "2022-08-24T05:40:58.450718",
     "status": "completed"
    },
    "tags": []
   },
   "outputs": [
    {
     "name": "stdout",
     "output_type": "stream",
     "text": [
      "11\n"
     ]
    },
    {
     "data": {
      "text/plain": [
       "[5, 7, 4, 2, 3, 6, 9]"
      ]
     },
     "execution_count": 5,
     "metadata": {},
     "output_type": "execute_result"
    }
   ],
   "source": [
    "# Delete an element at a particular index\n",
    "index=5\n",
    "deleted=arr.pop(index)\n",
    "print(deleted)\n",
    "arr"
   ]
  },
  {
   "cell_type": "code",
   "execution_count": 6,
   "id": "993fc9d5",
   "metadata": {
    "execution": {
     "iopub.execute_input": "2022-08-24T05:40:58.542891Z",
     "iopub.status.busy": "2022-08-24T05:40:58.542477Z",
     "iopub.status.idle": "2022-08-24T05:40:58.548986Z",
     "shell.execute_reply": "2022-08-24T05:40:58.547733Z"
    },
    "papermill": {
     "duration": 0.036938,
     "end_time": "2022-08-24T05:40:58.552578",
     "exception": false,
     "start_time": "2022-08-24T05:40:58.515640",
     "status": "completed"
    },
    "tags": []
   },
   "outputs": [
    {
     "name": "stdout",
     "output_type": "stream",
     "text": [
      "True\n",
      "False\n"
     ]
    }
   ],
   "source": [
    "# Search an element in array. Simple.\n",
    "x=5\n",
    "print(x in arr)\n",
    "x=12\n",
    "print(x in arr)"
   ]
  },
  {
   "cell_type": "code",
   "execution_count": 7,
   "id": "2bde6191",
   "metadata": {
    "execution": {
     "iopub.execute_input": "2022-08-24T05:40:58.607544Z",
     "iopub.status.busy": "2022-08-24T05:40:58.606738Z",
     "iopub.status.idle": "2022-08-24T05:40:58.614256Z",
     "shell.execute_reply": "2022-08-24T05:40:58.613179Z"
    },
    "papermill": {
     "duration": 0.036873,
     "end_time": "2022-08-24T05:40:58.616590",
     "exception": false,
     "start_time": "2022-08-24T05:40:58.579717",
     "status": "completed"
    },
    "tags": []
   },
   "outputs": [
    {
     "data": {
      "text/plain": [
       "[2, 3, 4, 5, 6, 7, 9]"
      ]
     },
     "execution_count": 7,
     "metadata": {},
     "output_type": "execute_result"
    }
   ],
   "source": [
    "# Sort an array\n",
    "arr=sorted(arr)\n",
    "arr"
   ]
  },
  {
   "cell_type": "code",
   "execution_count": 8,
   "id": "9f75afeb",
   "metadata": {
    "execution": {
     "iopub.execute_input": "2022-08-24T05:40:58.669946Z",
     "iopub.status.busy": "2022-08-24T05:40:58.669524Z",
     "iopub.status.idle": "2022-08-24T05:40:58.677345Z",
     "shell.execute_reply": "2022-08-24T05:40:58.676094Z"
    },
    "papermill": {
     "duration": 0.037554,
     "end_time": "2022-08-24T05:40:58.679771",
     "exception": false,
     "start_time": "2022-08-24T05:40:58.642217",
     "status": "completed"
    },
    "tags": []
   },
   "outputs": [
    {
     "data": {
      "text/plain": [
       "[9, 7, 6, 5, 4, 3, 2]"
      ]
     },
     "execution_count": 8,
     "metadata": {},
     "output_type": "execute_result"
    }
   ],
   "source": [
    "# Reverse sorting\n",
    "arr=sorted(arr,reverse=True) # Use 'key' arg to provide a custom function.\n",
    "arr"
   ]
  },
  {
   "cell_type": "code",
   "execution_count": 9,
   "id": "9db0c4f9",
   "metadata": {
    "execution": {
     "iopub.execute_input": "2022-08-24T05:40:58.735679Z",
     "iopub.status.busy": "2022-08-24T05:40:58.734405Z",
     "iopub.status.idle": "2022-08-24T05:40:58.743459Z",
     "shell.execute_reply": "2022-08-24T05:40:58.741994Z"
    },
    "papermill": {
     "duration": 0.042429,
     "end_time": "2022-08-24T05:40:58.748217",
     "exception": false,
     "start_time": "2022-08-24T05:40:58.705788",
     "status": "completed"
    },
    "tags": []
   },
   "outputs": [
    {
     "data": {
      "text/plain": [
       "[2, 3, 4, 5, 6, 7, 9]"
      ]
     },
     "execution_count": 9,
     "metadata": {},
     "output_type": "execute_result"
    }
   ],
   "source": [
    "# Reverse a list\n",
    "arr=arr[::-1]\n",
    "arr"
   ]
  },
  {
   "cell_type": "code",
   "execution_count": null,
   "id": "a68bda17",
   "metadata": {
    "papermill": {
     "duration": 0.031546,
     "end_time": "2022-08-24T05:40:58.812370",
     "exception": false,
     "start_time": "2022-08-24T05:40:58.780824",
     "status": "completed"
    },
    "tags": []
   },
   "outputs": [],
   "source": []
  },
  {
   "cell_type": "markdown",
   "id": "9c39c65b",
   "metadata": {
    "papermill": {
     "duration": 0.025529,
     "end_time": "2022-08-24T05:40:58.863959",
     "exception": false,
     "start_time": "2022-08-24T05:40:58.838430",
     "status": "completed"
    },
    "tags": []
   },
   "source": [
    "### Sample program: Reverse an array.\n",
    "Given an array, WAP to reverse it."
   ]
  },
  {
   "cell_type": "code",
   "execution_count": 10,
   "id": "c00a1b8a",
   "metadata": {
    "execution": {
     "iopub.execute_input": "2022-08-24T05:40:58.918118Z",
     "iopub.status.busy": "2022-08-24T05:40:58.917643Z",
     "iopub.status.idle": "2022-08-24T05:40:58.923870Z",
     "shell.execute_reply": "2022-08-24T05:40:58.922768Z"
    },
    "papermill": {
     "duration": 0.036346,
     "end_time": "2022-08-24T05:40:58.926156",
     "exception": false,
     "start_time": "2022-08-24T05:40:58.889810",
     "status": "completed"
    },
    "tags": []
   },
   "outputs": [],
   "source": [
    "def reverse(arr):\n",
    "    low=0\n",
    "    high=len(arr)-1\n",
    "    while low<high:\n",
    "        arr[low],arr[high]=arr[high],arr[low]\n",
    "        low+=1\n",
    "        high-=1"
   ]
  },
  {
   "cell_type": "code",
   "execution_count": 11,
   "id": "1b464b2d",
   "metadata": {
    "execution": {
     "iopub.execute_input": "2022-08-24T05:40:58.979985Z",
     "iopub.status.busy": "2022-08-24T05:40:58.979568Z",
     "iopub.status.idle": "2022-08-24T05:40:58.984674Z",
     "shell.execute_reply": "2022-08-24T05:40:58.983877Z"
    },
    "papermill": {
     "duration": 0.035228,
     "end_time": "2022-08-24T05:40:58.987519",
     "exception": false,
     "start_time": "2022-08-24T05:40:58.952291",
     "status": "completed"
    },
    "tags": []
   },
   "outputs": [
    {
     "name": "stdout",
     "output_type": "stream",
     "text": [
      "The original array is:  [2, 3, 4, 5, 6, 7, 9]\n",
      "The reversed array is:  [9, 7, 6, 5, 4, 3, 2]\n"
     ]
    }
   ],
   "source": [
    "print(\"The original array is: \",arr)\n",
    "reverse(arr)\n",
    "print(\"The reversed array is: \",arr)"
   ]
  },
  {
   "cell_type": "code",
   "execution_count": null,
   "id": "b24e7c09",
   "metadata": {
    "papermill": {
     "duration": 0.025881,
     "end_time": "2022-08-24T05:40:59.039725",
     "exception": false,
     "start_time": "2022-08-24T05:40:59.013844",
     "status": "completed"
    },
    "tags": []
   },
   "outputs": [],
   "source": []
  },
  {
   "cell_type": "code",
   "execution_count": null,
   "id": "efa332a3",
   "metadata": {
    "papermill": {
     "duration": 0.025622,
     "end_time": "2022-08-24T05:40:59.091124",
     "exception": false,
     "start_time": "2022-08-24T05:40:59.065502",
     "status": "completed"
    },
    "tags": []
   },
   "outputs": [],
   "source": []
  },
  {
   "cell_type": "markdown",
   "id": "5bfdcc81",
   "metadata": {
    "papermill": {
     "duration": 0.026235,
     "end_time": "2022-08-24T05:40:59.143493",
     "exception": false,
     "start_time": "2022-08-24T05:40:59.117258",
     "status": "completed"
    },
    "tags": []
   },
   "source": [
    "<a id=\"content2\"></a>\n",
    "## 2. Strings"
   ]
  },
  {
   "cell_type": "code",
   "execution_count": 12,
   "id": "8af5edf5",
   "metadata": {
    "execution": {
     "iopub.execute_input": "2022-08-24T05:40:59.206118Z",
     "iopub.status.busy": "2022-08-24T05:40:59.204970Z",
     "iopub.status.idle": "2022-08-24T05:40:59.213235Z",
     "shell.execute_reply": "2022-08-24T05:40:59.211254Z"
    },
    "papermill": {
     "duration": 0.047403,
     "end_time": "2022-08-24T05:40:59.216884",
     "exception": false,
     "start_time": "2022-08-24T05:40:59.169481",
     "status": "completed"
    },
    "tags": []
   },
   "outputs": [
    {
     "name": "stdout",
     "output_type": "stream",
     "text": [
      "<class 'str'>\n"
     ]
    }
   ],
   "source": [
    "# To check type of any variable\n",
    "s=\"hi I am a string\"\n",
    "print(type(s))"
   ]
  },
  {
   "cell_type": "code",
   "execution_count": 13,
   "id": "9b226b25",
   "metadata": {
    "execution": {
     "iopub.execute_input": "2022-08-24T05:40:59.273404Z",
     "iopub.status.busy": "2022-08-24T05:40:59.272344Z",
     "iopub.status.idle": "2022-08-24T05:40:59.279704Z",
     "shell.execute_reply": "2022-08-24T05:40:59.278665Z"
    },
    "papermill": {
     "duration": 0.037878,
     "end_time": "2022-08-24T05:40:59.282482",
     "exception": false,
     "start_time": "2022-08-24T05:40:59.244604",
     "status": "completed"
    },
    "tags": []
   },
   "outputs": [
    {
     "data": {
      "text/plain": [
       "'hi I a'"
      ]
     },
     "execution_count": 13,
     "metadata": {},
     "output_type": "execute_result"
    }
   ],
   "source": [
    "# Slicing (Substring)\n",
    "s[0:6]  # last index exclusive"
   ]
  },
  {
   "cell_type": "code",
   "execution_count": 14,
   "id": "c891a161",
   "metadata": {
    "execution": {
     "iopub.execute_input": "2022-08-24T05:40:59.340538Z",
     "iopub.status.busy": "2022-08-24T05:40:59.339736Z",
     "iopub.status.idle": "2022-08-24T05:40:59.346569Z",
     "shell.execute_reply": "2022-08-24T05:40:59.345735Z"
    },
    "papermill": {
     "duration": 0.036648,
     "end_time": "2022-08-24T05:40:59.348749",
     "exception": false,
     "start_time": "2022-08-24T05:40:59.312101",
     "status": "completed"
    },
    "tags": []
   },
   "outputs": [
    {
     "data": {
      "text/plain": [
       "'Hi this is a sample string...'"
      ]
     },
     "execution_count": 14,
     "metadata": {},
     "output_type": "execute_result"
    }
   ],
   "source": [
    "# Adding one string to another\n",
    "s1=\"Hi this is a sample \"\n",
    "s2=\"string...\"\n",
    "s1+s2"
   ]
  },
  {
   "cell_type": "code",
   "execution_count": 15,
   "id": "900469be",
   "metadata": {
    "execution": {
     "iopub.execute_input": "2022-08-24T05:40:59.404060Z",
     "iopub.status.busy": "2022-08-24T05:40:59.403285Z",
     "iopub.status.idle": "2022-08-24T05:40:59.410456Z",
     "shell.execute_reply": "2022-08-24T05:40:59.409181Z"
    },
    "papermill": {
     "duration": 0.037938,
     "end_time": "2022-08-24T05:40:59.412877",
     "exception": false,
     "start_time": "2022-08-24T05:40:59.374939",
     "status": "completed"
    },
    "tags": []
   },
   "outputs": [
    {
     "data": {
      "text/plain": [
       "'hi I am a str'"
      ]
     },
     "execution_count": 15,
     "metadata": {},
     "output_type": "execute_result"
    }
   ],
   "source": [
    "# Deleting some last chars.\n",
    "s=s[:-3]\n",
    "s"
   ]
  },
  {
   "cell_type": "code",
   "execution_count": 16,
   "id": "47e3a176",
   "metadata": {
    "execution": {
     "iopub.execute_input": "2022-08-24T05:40:59.468346Z",
     "iopub.status.busy": "2022-08-24T05:40:59.467585Z",
     "iopub.status.idle": "2022-08-24T05:40:59.475353Z",
     "shell.execute_reply": "2022-08-24T05:40:59.474141Z"
    },
    "papermill": {
     "duration": 0.038379,
     "end_time": "2022-08-24T05:40:59.477788",
     "exception": false,
     "start_time": "2022-08-24T05:40:59.439409",
     "status": "completed"
    },
    "tags": []
   },
   "outputs": [
    {
     "data": {
      "text/plain": [
       "'hello I am a str'"
      ]
     },
     "execution_count": 16,
     "metadata": {},
     "output_type": "execute_result"
    }
   ],
   "source": [
    "# Change a char at a particular index. \n",
    "\n",
    "# This will throw error.\n",
    "# s[0]='g'\n",
    "\n",
    "#Instead create a new string like this\n",
    "sample='hello '+s[3:]\n",
    "sample"
   ]
  },
  {
   "cell_type": "markdown",
   "id": "5918adc8",
   "metadata": {
    "papermill": {
     "duration": 0.026298,
     "end_time": "2022-08-24T05:40:59.531256",
     "exception": false,
     "start_time": "2022-08-24T05:40:59.504958",
     "status": "completed"
    },
    "tags": []
   },
   "source": [
    "Note that strings in python are **immutable** Thats why an assignment to chane first character throws an error. [Here's](https://stackoverflow.com/questions/9097994/arent-python-strings-immutable-then-why-does-a-b-work) a nice SO discussion on this topic.\n"
   ]
  },
  {
   "cell_type": "code",
   "execution_count": 17,
   "id": "99fe7c87",
   "metadata": {
    "execution": {
     "iopub.execute_input": "2022-08-24T05:40:59.586058Z",
     "iopub.status.busy": "2022-08-24T05:40:59.585651Z",
     "iopub.status.idle": "2022-08-24T05:40:59.592139Z",
     "shell.execute_reply": "2022-08-24T05:40:59.591311Z"
    },
    "papermill": {
     "duration": 0.036496,
     "end_time": "2022-08-24T05:40:59.594287",
     "exception": false,
     "start_time": "2022-08-24T05:40:59.557791",
     "status": "completed"
    },
    "tags": []
   },
   "outputs": [
    {
     "data": {
      "text/plain": [
       "'olleh...olleh'"
      ]
     },
     "execution_count": 17,
     "metadata": {},
     "output_type": "execute_result"
    }
   ],
   "source": [
    "# Reverse a string\n",
    "string=\"hello...hello\"\n",
    "string[::-1]  # Python it is. :)"
   ]
  },
  {
   "cell_type": "markdown",
   "id": "8e097a1d",
   "metadata": {
    "papermill": {
     "duration": 0.026303,
     "end_time": "2022-08-24T05:40:59.647459",
     "exception": false,
     "start_time": "2022-08-24T05:40:59.621156",
     "status": "completed"
    },
    "tags": []
   },
   "source": [
    "### Sample Program: Check palindrome\n",
    "\n",
    "WAP to check if a given string is Palindrome or not."
   ]
  },
  {
   "cell_type": "code",
   "execution_count": 18,
   "id": "dcee2886",
   "metadata": {
    "execution": {
     "iopub.execute_input": "2022-08-24T05:40:59.719030Z",
     "iopub.status.busy": "2022-08-24T05:40:59.717740Z",
     "iopub.status.idle": "2022-08-24T05:40:59.728984Z",
     "shell.execute_reply": "2022-08-24T05:40:59.726920Z"
    },
    "papermill": {
     "duration": 0.055881,
     "end_time": "2022-08-24T05:40:59.731328",
     "exception": false,
     "start_time": "2022-08-24T05:40:59.675447",
     "status": "completed"
    },
    "tags": []
   },
   "outputs": [
    {
     "data": {
      "text/plain": [
       "True"
      ]
     },
     "execution_count": 18,
     "metadata": {},
     "output_type": "execute_result"
    }
   ],
   "source": [
    "string==string[::-1]  #False\n",
    "palin=\"ababa\"\n",
    "palin==palin[::-1] # True"
   ]
  },
  {
   "cell_type": "code",
   "execution_count": null,
   "id": "cd4139d0",
   "metadata": {
    "papermill": {
     "duration": 0.03297,
     "end_time": "2022-08-24T05:40:59.793886",
     "exception": false,
     "start_time": "2022-08-24T05:40:59.760916",
     "status": "completed"
    },
    "tags": []
   },
   "outputs": [],
   "source": []
  },
  {
   "cell_type": "markdown",
   "id": "b177b960",
   "metadata": {
    "papermill": {
     "duration": 0.026458,
     "end_time": "2022-08-24T05:40:59.847176",
     "exception": false,
     "start_time": "2022-08-24T05:40:59.820718",
     "status": "completed"
    },
    "tags": []
   },
   "source": [
    "<a id=\"content3\"></a>\n",
    "## 3. Stack\n",
    "\n",
    "Let's see some basic stack operations now."
   ]
  },
  {
   "cell_type": "markdown",
   "id": "6d594be6",
   "metadata": {
    "papermill": {
     "duration": 0.027077,
     "end_time": "2022-08-24T05:40:59.901203",
     "exception": false,
     "start_time": "2022-08-24T05:40:59.874126",
     "status": "completed"
    },
    "tags": []
   },
   "source": [
    "#### There are multiple ways to implement a stack in python, eg. using collections module etc. Here we see the most simple one using a list. So we will implement a stack in Python using list."
   ]
  },
  {
   "cell_type": "code",
   "execution_count": 19,
   "id": "7f6ef272",
   "metadata": {
    "execution": {
     "iopub.execute_input": "2022-08-24T05:40:59.957492Z",
     "iopub.status.busy": "2022-08-24T05:40:59.956761Z",
     "iopub.status.idle": "2022-08-24T05:40:59.960708Z",
     "shell.execute_reply": "2022-08-24T05:40:59.959923Z"
    },
    "papermill": {
     "duration": 0.034434,
     "end_time": "2022-08-24T05:40:59.962808",
     "exception": false,
     "start_time": "2022-08-24T05:40:59.928374",
     "status": "completed"
    },
    "tags": []
   },
   "outputs": [],
   "source": [
    "# Create stack\n",
    "stack=[]"
   ]
  },
  {
   "cell_type": "code",
   "execution_count": 20,
   "id": "901ef2d9",
   "metadata": {
    "execution": {
     "iopub.execute_input": "2022-08-24T05:41:00.019619Z",
     "iopub.status.busy": "2022-08-24T05:41:00.018826Z",
     "iopub.status.idle": "2022-08-24T05:41:00.025602Z",
     "shell.execute_reply": "2022-08-24T05:41:00.024782Z"
    },
    "papermill": {
     "duration": 0.037779,
     "end_time": "2022-08-24T05:41:00.027736",
     "exception": false,
     "start_time": "2022-08-24T05:40:59.989957",
     "status": "completed"
    },
    "tags": []
   },
   "outputs": [
    {
     "data": {
      "text/plain": [
       "[0, 1, 2, 3, 4, 5, 6, 7, 8, 9]"
      ]
     },
     "execution_count": 20,
     "metadata": {},
     "output_type": "execute_result"
    }
   ],
   "source": [
    "# Push an element to stack.\n",
    "for i in range(10):\n",
    "    stack.append(i)\n",
    "    \n",
    "stack # Rightmost being the top of stack."
   ]
  },
  {
   "cell_type": "code",
   "execution_count": 21,
   "id": "9bc0c086",
   "metadata": {
    "execution": {
     "iopub.execute_input": "2022-08-24T05:41:00.083305Z",
     "iopub.status.busy": "2022-08-24T05:41:00.082278Z",
     "iopub.status.idle": "2022-08-24T05:41:00.089986Z",
     "shell.execute_reply": "2022-08-24T05:41:00.089178Z"
    },
    "papermill": {
     "duration": 0.037597,
     "end_time": "2022-08-24T05:41:00.091976",
     "exception": false,
     "start_time": "2022-08-24T05:41:00.054379",
     "status": "completed"
    },
    "tags": []
   },
   "outputs": [
    {
     "name": "stdout",
     "output_type": "stream",
     "text": [
      "9\n"
     ]
    },
    {
     "data": {
      "text/plain": [
       "[0, 1, 2, 3, 4, 5, 6, 7, 8]"
      ]
     },
     "execution_count": 21,
     "metadata": {},
     "output_type": "execute_result"
    }
   ],
   "source": [
    "# Pop an element\n",
    "if len(stack)!=0:\n",
    "    popped=stack.pop()\n",
    "    print(popped)\n",
    "else:\n",
    "    print(\"Stack is empty!\")\n",
    "    \n",
    "stack"
   ]
  },
  {
   "cell_type": "code",
   "execution_count": 22,
   "id": "65ff8c67",
   "metadata": {
    "execution": {
     "iopub.execute_input": "2022-08-24T05:41:00.152036Z",
     "iopub.status.busy": "2022-08-24T05:41:00.151233Z",
     "iopub.status.idle": "2022-08-24T05:41:00.157010Z",
     "shell.execute_reply": "2022-08-24T05:41:00.156220Z"
    },
    "papermill": {
     "duration": 0.038336,
     "end_time": "2022-08-24T05:41:00.159230",
     "exception": false,
     "start_time": "2022-08-24T05:41:00.120894",
     "status": "completed"
    },
    "tags": []
   },
   "outputs": [
    {
     "data": {
      "text/plain": [
       "8"
      ]
     },
     "execution_count": 22,
     "metadata": {},
     "output_type": "execute_result"
    }
   ],
   "source": [
    "# Seeing the top of stack\n",
    "stack[-1]"
   ]
  },
  {
   "cell_type": "code",
   "execution_count": 23,
   "id": "c823fa1f",
   "metadata": {
    "execution": {
     "iopub.execute_input": "2022-08-24T05:41:00.220753Z",
     "iopub.status.busy": "2022-08-24T05:41:00.219842Z",
     "iopub.status.idle": "2022-08-24T05:41:00.226355Z",
     "shell.execute_reply": "2022-08-24T05:41:00.225562Z"
    },
    "papermill": {
     "duration": 0.039197,
     "end_time": "2022-08-24T05:41:00.228562",
     "exception": false,
     "start_time": "2022-08-24T05:41:00.189365",
     "status": "completed"
    },
    "tags": []
   },
   "outputs": [
    {
     "data": {
      "text/plain": [
       "False"
      ]
     },
     "execution_count": 23,
     "metadata": {},
     "output_type": "execute_result"
    }
   ],
   "source": [
    "# Checking if stack is empty\n",
    "len(stack)==0"
   ]
  },
  {
   "cell_type": "code",
   "execution_count": null,
   "id": "a381cfac",
   "metadata": {
    "papermill": {
     "duration": 0.02938,
     "end_time": "2022-08-24T05:41:00.287315",
     "exception": false,
     "start_time": "2022-08-24T05:41:00.257935",
     "status": "completed"
    },
    "tags": []
   },
   "outputs": [],
   "source": []
  },
  {
   "cell_type": "markdown",
   "id": "9cb611ef",
   "metadata": {
    "papermill": {
     "duration": 0.028984,
     "end_time": "2022-08-24T05:41:00.345028",
     "exception": false,
     "start_time": "2022-08-24T05:41:00.316044",
     "status": "completed"
    },
    "tags": []
   },
   "source": [
    "### Sample program: Check Parenthesis\n",
    "\n",
    "WAP to check if a given parenthesis sequence is valid or not!"
   ]
  },
  {
   "cell_type": "code",
   "execution_count": 24,
   "id": "1b9f7793",
   "metadata": {
    "execution": {
     "iopub.execute_input": "2022-08-24T05:41:00.405931Z",
     "iopub.status.busy": "2022-08-24T05:41:00.404550Z",
     "iopub.status.idle": "2022-08-24T05:41:00.412100Z",
     "shell.execute_reply": "2022-08-24T05:41:00.410987Z"
    },
    "papermill": {
     "duration": 0.040937,
     "end_time": "2022-08-24T05:41:00.414732",
     "exception": false,
     "start_time": "2022-08-24T05:41:00.373795",
     "status": "completed"
    },
    "tags": []
   },
   "outputs": [],
   "source": [
    "def checkParenthesis(str):\n",
    "    stack=[]\n",
    "    for ch in str:\n",
    "        if ch in ['(','[','{']:\n",
    "            stack.append(ch)\n",
    "        elif ch in  [')',']','}']:\n",
    "            if len(stack)==0:\n",
    "                return False\n",
    "            else:\n",
    "                stack.pop(-1)\n",
    "    return len(stack)==0 # no leading left brackets should be there."
   ]
  },
  {
   "cell_type": "code",
   "execution_count": 25,
   "id": "4123d439",
   "metadata": {
    "execution": {
     "iopub.execute_input": "2022-08-24T05:41:00.476141Z",
     "iopub.status.busy": "2022-08-24T05:41:00.475351Z",
     "iopub.status.idle": "2022-08-24T05:41:00.481631Z",
     "shell.execute_reply": "2022-08-24T05:41:00.480301Z"
    },
    "papermill": {
     "duration": 0.039992,
     "end_time": "2022-08-24T05:41:00.484625",
     "exception": false,
     "start_time": "2022-08-24T05:41:00.444633",
     "status": "completed"
    },
    "tags": []
   },
   "outputs": [
    {
     "name": "stdout",
     "output_type": "stream",
     "text": [
      "True\n",
      "False\n"
     ]
    }
   ],
   "source": [
    "str='(({}{}[]))'\n",
    "print(checkParenthesis(str))\n",
    "\n",
    "str='({}(({}{}[]))))))'\n",
    "print(checkParenthesis(str))"
   ]
  },
  {
   "cell_type": "code",
   "execution_count": null,
   "id": "1c365988",
   "metadata": {
    "papermill": {
     "duration": 0.028766,
     "end_time": "2022-08-24T05:41:00.543283",
     "exception": false,
     "start_time": "2022-08-24T05:41:00.514517",
     "status": "completed"
    },
    "tags": []
   },
   "outputs": [],
   "source": []
  },
  {
   "cell_type": "markdown",
   "id": "0703dcf8",
   "metadata": {
    "papermill": {
     "duration": 0.02926,
     "end_time": "2022-08-24T05:41:00.602010",
     "exception": false,
     "start_time": "2022-08-24T05:41:00.572750",
     "status": "completed"
    },
    "tags": []
   },
   "source": [
    "<a id=\"content4\"></a>\n",
    "## 4. Queue\n",
    "\n",
    "Let's see some basic queue operations now."
   ]
  },
  {
   "cell_type": "markdown",
   "id": "d1694589",
   "metadata": {
    "papermill": {
     "duration": 0.028519,
     "end_time": "2022-08-24T05:41:00.660227",
     "exception": false,
     "start_time": "2022-08-24T05:41:00.631708",
     "status": "completed"
    },
    "tags": []
   },
   "source": [
    "#### Again, we will use 'List' to implement queue in Python. Notice how index manipulation is used to implement either FIFO (queue) or LIFO(stack) property."
   ]
  },
  {
   "cell_type": "code",
   "execution_count": 26,
   "id": "1f899b41",
   "metadata": {
    "execution": {
     "iopub.execute_input": "2022-08-24T05:41:00.720814Z",
     "iopub.status.busy": "2022-08-24T05:41:00.719828Z",
     "iopub.status.idle": "2022-08-24T05:41:00.724848Z",
     "shell.execute_reply": "2022-08-24T05:41:00.723745Z"
    },
    "papermill": {
     "duration": 0.037638,
     "end_time": "2022-08-24T05:41:00.727244",
     "exception": false,
     "start_time": "2022-08-24T05:41:00.689606",
     "status": "completed"
    },
    "tags": []
   },
   "outputs": [],
   "source": [
    "# Create queue\n",
    "queue=[]"
   ]
  },
  {
   "cell_type": "code",
   "execution_count": 27,
   "id": "afae1303",
   "metadata": {
    "execution": {
     "iopub.execute_input": "2022-08-24T05:41:00.804967Z",
     "iopub.status.busy": "2022-08-24T05:41:00.804183Z",
     "iopub.status.idle": "2022-08-24T05:41:00.813229Z",
     "shell.execute_reply": "2022-08-24T05:41:00.812053Z"
    },
    "papermill": {
     "duration": 0.053549,
     "end_time": "2022-08-24T05:41:00.815885",
     "exception": false,
     "start_time": "2022-08-24T05:41:00.762336",
     "status": "completed"
    },
    "tags": []
   },
   "outputs": [
    {
     "data": {
      "text/plain": [
       "[1, 2, 3, 4, 5, 6, 7, 8, 9, 10]"
      ]
     },
     "execution_count": 27,
     "metadata": {},
     "output_type": "execute_result"
    }
   ],
   "source": [
    "# Push element to Q.\n",
    "for i in range(10):\n",
    "    queue.append(i+1)\n",
    "    \n",
    "queue # Leftmost being front of Q."
   ]
  },
  {
   "cell_type": "code",
   "execution_count": 28,
   "id": "8ffa19ce",
   "metadata": {
    "execution": {
     "iopub.execute_input": "2022-08-24T05:41:00.882922Z",
     "iopub.status.busy": "2022-08-24T05:41:00.882493Z",
     "iopub.status.idle": "2022-08-24T05:41:00.891736Z",
     "shell.execute_reply": "2022-08-24T05:41:00.890316Z"
    },
    "papermill": {
     "duration": 0.042493,
     "end_time": "2022-08-24T05:41:00.894052",
     "exception": false,
     "start_time": "2022-08-24T05:41:00.851559",
     "status": "completed"
    },
    "tags": []
   },
   "outputs": [
    {
     "name": "stdout",
     "output_type": "stream",
     "text": [
      "1\n"
     ]
    },
    {
     "data": {
      "text/plain": [
       "[2, 3, 4, 5, 6, 7, 8, 9, 10]"
      ]
     },
     "execution_count": 28,
     "metadata": {},
     "output_type": "execute_result"
    }
   ],
   "source": [
    "# Pop from Queue(FIFO)\n",
    "if len(queue)!=0:\n",
    "    popped=queue.pop(0)\n",
    "    print(popped)\n",
    "else:\n",
    "    print(\"Q is empty!\")\n",
    "    \n",
    "queue"
   ]
  },
  {
   "cell_type": "code",
   "execution_count": 29,
   "id": "205a8920",
   "metadata": {
    "execution": {
     "iopub.execute_input": "2022-08-24T05:41:00.953766Z",
     "iopub.status.busy": "2022-08-24T05:41:00.952801Z",
     "iopub.status.idle": "2022-08-24T05:41:00.960067Z",
     "shell.execute_reply": "2022-08-24T05:41:00.958900Z"
    },
    "papermill": {
     "duration": 0.040134,
     "end_time": "2022-08-24T05:41:00.962574",
     "exception": false,
     "start_time": "2022-08-24T05:41:00.922440",
     "status": "completed"
    },
    "tags": []
   },
   "outputs": [
    {
     "data": {
      "text/plain": [
       "2"
      ]
     },
     "execution_count": 29,
     "metadata": {},
     "output_type": "execute_result"
    }
   ],
   "source": [
    "# Front of queue\n",
    "queue[0]"
   ]
  },
  {
   "cell_type": "code",
   "execution_count": 30,
   "id": "97c65bb7",
   "metadata": {
    "execution": {
     "iopub.execute_input": "2022-08-24T05:41:01.021442Z",
     "iopub.status.busy": "2022-08-24T05:41:01.020399Z",
     "iopub.status.idle": "2022-08-24T05:41:01.027608Z",
     "shell.execute_reply": "2022-08-24T05:41:01.026554Z"
    },
    "papermill": {
     "duration": 0.038522,
     "end_time": "2022-08-24T05:41:01.029807",
     "exception": false,
     "start_time": "2022-08-24T05:41:00.991285",
     "status": "completed"
    },
    "tags": []
   },
   "outputs": [
    {
     "data": {
      "text/plain": [
       "False"
      ]
     },
     "execution_count": 30,
     "metadata": {},
     "output_type": "execute_result"
    }
   ],
   "source": [
    "# Empty?\n",
    "len(queue)==0"
   ]
  },
  {
   "cell_type": "markdown",
   "id": "056d4c00",
   "metadata": {
    "papermill": {
     "duration": 0.028046,
     "end_time": "2022-08-24T05:41:01.086214",
     "exception": false,
     "start_time": "2022-08-24T05:41:01.058168",
     "status": "completed"
    },
    "tags": []
   },
   "source": [
    "### Sample program: BFS\n",
    "\n",
    "See BFS implementation using queue in [Graph](#content9) section."
   ]
  },
  {
   "cell_type": "code",
   "execution_count": null,
   "id": "eb47bd28",
   "metadata": {
    "papermill": {
     "duration": 0.029482,
     "end_time": "2022-08-24T05:41:01.146002",
     "exception": false,
     "start_time": "2022-08-24T05:41:01.116520",
     "status": "completed"
    },
    "tags": []
   },
   "outputs": [],
   "source": []
  },
  {
   "cell_type": "markdown",
   "id": "8ae13612",
   "metadata": {
    "papermill": {
     "duration": 0.029185,
     "end_time": "2022-08-24T05:41:01.204955",
     "exception": false,
     "start_time": "2022-08-24T05:41:01.175770",
     "status": "completed"
    },
    "tags": []
   },
   "source": [
    "<a id=\"content5\"></a>\n",
    "## 5. Linked List\n",
    "\n",
    "Let's see Linked list into action now. \n",
    "\n",
    "**Unlike, C/C++, there won't be any pointers here 😊😊😊. We can create a class to represent a node and then create linked list using that.**"
   ]
  },
  {
   "cell_type": "code",
   "execution_count": 31,
   "id": "9f84137e",
   "metadata": {
    "execution": {
     "iopub.execute_input": "2022-08-24T05:41:01.265672Z",
     "iopub.status.busy": "2022-08-24T05:41:01.264985Z",
     "iopub.status.idle": "2022-08-24T05:41:01.270558Z",
     "shell.execute_reply": "2022-08-24T05:41:01.269363Z"
    },
    "papermill": {
     "duration": 0.039071,
     "end_time": "2022-08-24T05:41:01.273302",
     "exception": false,
     "start_time": "2022-08-24T05:41:01.234231",
     "status": "completed"
    },
    "tags": []
   },
   "outputs": [],
   "source": [
    "# template for a linked list node\n",
    "class ListNode():\n",
    "    def __init__(self,data=0,next=None):\n",
    "        self.data=data\n",
    "        self.next=next"
   ]
  },
  {
   "cell_type": "code",
   "execution_count": 32,
   "id": "d005b4bb",
   "metadata": {
    "execution": {
     "iopub.execute_input": "2022-08-24T05:41:01.333929Z",
     "iopub.status.busy": "2022-08-24T05:41:01.333204Z",
     "iopub.status.idle": "2022-08-24T05:41:01.338171Z",
     "shell.execute_reply": "2022-08-24T05:41:01.336853Z"
    },
    "papermill": {
     "duration": 0.038112,
     "end_time": "2022-08-24T05:41:01.340965",
     "exception": false,
     "start_time": "2022-08-24T05:41:01.302853",
     "status": "completed"
    },
    "tags": []
   },
   "outputs": [],
   "source": [
    "# Creating a node.\n",
    "start=ListNode(1,None)"
   ]
  },
  {
   "cell_type": "markdown",
   "id": "4e571096",
   "metadata": {
    "papermill": {
     "duration": 0.029383,
     "end_time": "2022-08-24T05:41:01.400097",
     "exception": false,
     "start_time": "2022-08-24T05:41:01.370714",
     "status": "completed"
    },
    "tags": []
   },
   "source": [
    "This creates a single node with **value =1 and next pointer currently assigned as None**. Now let's try to create a simple linked list using this:"
   ]
  },
  {
   "cell_type": "code",
   "execution_count": 33,
   "id": "b98f0508",
   "metadata": {
    "execution": {
     "iopub.execute_input": "2022-08-24T05:41:01.462837Z",
     "iopub.status.busy": "2022-08-24T05:41:01.462017Z",
     "iopub.status.idle": "2022-08-24T05:41:01.467216Z",
     "shell.execute_reply": "2022-08-24T05:41:01.466201Z"
    },
    "papermill": {
     "duration": 0.039131,
     "end_time": "2022-08-24T05:41:01.469441",
     "exception": false,
     "start_time": "2022-08-24T05:41:01.430310",
     "status": "completed"
    },
    "tags": []
   },
   "outputs": [],
   "source": [
    "countNodes=10\n",
    "prev=start\n",
    "while countNodes:\n",
    "    node=ListNode(countNodes) # using val of countNodes for data. can be any integer.nothing else\n",
    "    prev.next=node\n",
    "    prev=node\n",
    "    countNodes-=1"
   ]
  },
  {
   "cell_type": "code",
   "execution_count": 34,
   "id": "b695da39",
   "metadata": {
    "execution": {
     "iopub.execute_input": "2022-08-24T05:41:01.530335Z",
     "iopub.status.busy": "2022-08-24T05:41:01.529595Z",
     "iopub.status.idle": "2022-08-24T05:41:01.536254Z",
     "shell.execute_reply": "2022-08-24T05:41:01.535309Z"
    },
    "papermill": {
     "duration": 0.039651,
     "end_time": "2022-08-24T05:41:01.538545",
     "exception": false,
     "start_time": "2022-08-24T05:41:01.498894",
     "status": "completed"
    },
    "tags": []
   },
   "outputs": [
    {
     "data": {
      "text/plain": [
       "(1, 10)"
      ]
     },
     "execution_count": 34,
     "metadata": {},
     "output_type": "execute_result"
    }
   ],
   "source": [
    "start.data, start.next.data"
   ]
  },
  {
   "cell_type": "code",
   "execution_count": 35,
   "id": "162d604a",
   "metadata": {
    "execution": {
     "iopub.execute_input": "2022-08-24T05:41:01.598667Z",
     "iopub.status.busy": "2022-08-24T05:41:01.597881Z",
     "iopub.status.idle": "2022-08-24T05:41:01.604920Z",
     "shell.execute_reply": "2022-08-24T05:41:01.603766Z"
    },
    "papermill": {
     "duration": 0.039177,
     "end_time": "2022-08-24T05:41:01.607104",
     "exception": false,
     "start_time": "2022-08-24T05:41:01.567927",
     "status": "completed"
    },
    "tags": []
   },
   "outputs": [
    {
     "name": "stdout",
     "output_type": "stream",
     "text": [
      "1 10 9 8 7 6 5 4 3 2 1 "
     ]
    }
   ],
   "source": [
    "# Displaying linked list\n",
    "def displayList(start):\n",
    "    temp=start\n",
    "    while temp:\n",
    "        print(temp.data,end=' ')\n",
    "        temp=temp.next\n",
    "        \n",
    "# starting 1 is bcoz of individual node that we created at start.\n",
    "displayList(start)"
   ]
  },
  {
   "cell_type": "markdown",
   "id": "ae0f1cfb",
   "metadata": {
    "papermill": {
     "duration": 0.031319,
     "end_time": "2022-08-24T05:41:01.667901",
     "exception": false,
     "start_time": "2022-08-24T05:41:01.636582",
     "status": "completed"
    },
    "tags": []
   },
   "source": [
    "#### Sample Program: Reversing a Linked List."
   ]
  },
  {
   "cell_type": "code",
   "execution_count": 36,
   "id": "719be940",
   "metadata": {
    "execution": {
     "iopub.execute_input": "2022-08-24T05:41:01.731674Z",
     "iopub.status.busy": "2022-08-24T05:41:01.730827Z",
     "iopub.status.idle": "2022-08-24T05:41:01.737464Z",
     "shell.execute_reply": "2022-08-24T05:41:01.736266Z"
    },
    "papermill": {
     "duration": 0.041128,
     "end_time": "2022-08-24T05:41:01.740105",
     "exception": false,
     "start_time": "2022-08-24T05:41:01.698977",
     "status": "completed"
    },
    "tags": []
   },
   "outputs": [],
   "source": [
    "def reverseList(start):\n",
    "    temp=start\n",
    "    prev=None\n",
    "    backup=None\n",
    "    while temp:\n",
    "        backup=temp.next\n",
    "        temp.next=prev\n",
    "        prev=temp\n",
    "        temp=backup\n",
    "    start=prev\n",
    "    return start\n",
    "    "
   ]
  },
  {
   "cell_type": "code",
   "execution_count": 37,
   "id": "8ea310c9",
   "metadata": {
    "execution": {
     "iopub.execute_input": "2022-08-24T05:41:01.800666Z",
     "iopub.status.busy": "2022-08-24T05:41:01.799964Z",
     "iopub.status.idle": "2022-08-24T05:41:01.805577Z",
     "shell.execute_reply": "2022-08-24T05:41:01.804724Z"
    },
    "papermill": {
     "duration": 0.038269,
     "end_time": "2022-08-24T05:41:01.808482",
     "exception": false,
     "start_time": "2022-08-24T05:41:01.770213",
     "status": "completed"
    },
    "tags": []
   },
   "outputs": [
    {
     "name": "stdout",
     "output_type": "stream",
     "text": [
      "1 2 3 4 5 6 7 8 9 10 1 "
     ]
    }
   ],
   "source": [
    "start=reverseList(start)\n",
    "displayList(start) # reversed."
   ]
  },
  {
   "cell_type": "code",
   "execution_count": null,
   "id": "0804459c",
   "metadata": {
    "papermill": {
     "duration": 0.030193,
     "end_time": "2022-08-24T05:41:01.869958",
     "exception": false,
     "start_time": "2022-08-24T05:41:01.839765",
     "status": "completed"
    },
    "tags": []
   },
   "outputs": [],
   "source": []
  },
  {
   "cell_type": "markdown",
   "id": "43b65f8e",
   "metadata": {
    "papermill": {
     "duration": 0.03072,
     "end_time": "2022-08-24T05:41:01.931270",
     "exception": false,
     "start_time": "2022-08-24T05:41:01.900550",
     "status": "completed"
    },
    "tags": []
   },
   "source": [
    "<a id=\"content6\"></a>\n",
    "## 6. Tree\n",
    "\n",
    "Lets now move onto trees. Will try to implement binary Tree in Python. The approach remains same as we saw in LL, we will create a class to represent a node of tree and then build whole tree on the top of it!"
   ]
  },
  {
   "cell_type": "code",
   "execution_count": 38,
   "id": "952b80d7",
   "metadata": {
    "execution": {
     "iopub.execute_input": "2022-08-24T05:41:01.989976Z",
     "iopub.status.busy": "2022-08-24T05:41:01.989515Z",
     "iopub.status.idle": "2022-08-24T05:41:01.995188Z",
     "shell.execute_reply": "2022-08-24T05:41:01.994040Z"
    },
    "papermill": {
     "duration": 0.03737,
     "end_time": "2022-08-24T05:41:01.997415",
     "exception": false,
     "start_time": "2022-08-24T05:41:01.960045",
     "status": "completed"
    },
    "tags": []
   },
   "outputs": [],
   "source": [
    "class TreeNode():\n",
    "    def __init__(self,data=0,left=None,right=None):\n",
    "        self.data=data\n",
    "        self.left=left\n",
    "        self.right=right"
   ]
  },
  {
   "cell_type": "code",
   "execution_count": 39,
   "id": "2de63722",
   "metadata": {
    "execution": {
     "iopub.execute_input": "2022-08-24T05:41:02.056125Z",
     "iopub.status.busy": "2022-08-24T05:41:02.055273Z",
     "iopub.status.idle": "2022-08-24T05:41:02.060827Z",
     "shell.execute_reply": "2022-08-24T05:41:02.059819Z"
    },
    "papermill": {
     "duration": 0.037802,
     "end_time": "2022-08-24T05:41:02.063381",
     "exception": false,
     "start_time": "2022-08-24T05:41:02.025579",
     "status": "completed"
    },
    "tags": []
   },
   "outputs": [],
   "source": [
    "# Creating a node of the tree\n",
    "root=TreeNode(1)"
   ]
  },
  {
   "cell_type": "markdown",
   "id": "40ea304a",
   "metadata": {
    "papermill": {
     "duration": 0.031624,
     "end_time": "2022-08-24T05:41:02.127541",
     "exception": false,
     "start_time": "2022-08-24T05:41:02.095917",
     "status": "completed"
    },
    "tags": []
   },
   "source": [
    "#### Now note that we can create the tree by populating the left and right pointers of root and subsequent nodes (children).\n",
    "\n",
    "Lets assume that we want to create the following tree: \n",
    "\n",
    "                                 1\n",
    "                              /    \\\n",
    "                             2      3\n",
    "                            / \\      \\\n",
    "                           4   5      6\n",
    "                           \n",
    "                          \n",
    "Then we can create it as:"
   ]
  },
  {
   "cell_type": "code",
   "execution_count": 40,
   "id": "5680c982",
   "metadata": {
    "execution": {
     "iopub.execute_input": "2022-08-24T05:41:02.190046Z",
     "iopub.status.busy": "2022-08-24T05:41:02.188838Z",
     "iopub.status.idle": "2022-08-24T05:41:02.195279Z",
     "shell.execute_reply": "2022-08-24T05:41:02.194453Z"
    },
    "papermill": {
     "duration": 0.040007,
     "end_time": "2022-08-24T05:41:02.197569",
     "exception": false,
     "start_time": "2022-08-24T05:41:02.157562",
     "status": "completed"
    },
    "tags": []
   },
   "outputs": [],
   "source": [
    "root.left=TreeNode(2)\n",
    "root.right=TreeNode(3)\n",
    "\n",
    "root.left.left=TreeNode(4)\n",
    "root.left.right=TreeNode(5)\n",
    "\n",
    "root.right.right=TreeNode(6)"
   ]
  },
  {
   "cell_type": "markdown",
   "id": "3460e622",
   "metadata": {
    "papermill": {
     "duration": 0.030112,
     "end_time": "2022-08-24T05:41:02.257140",
     "exception": false,
     "start_time": "2022-08-24T05:41:02.227028",
     "status": "completed"
    },
    "tags": []
   },
   "source": [
    "To check if the tree is created correctly, we can traverse it, say in the **Inorder** fashion.\n",
    "\n",
    "#### Sample Program: Inorder Traversal."
   ]
  },
  {
   "cell_type": "code",
   "execution_count": 41,
   "id": "b1b91da9",
   "metadata": {
    "execution": {
     "iopub.execute_input": "2022-08-24T05:41:02.317759Z",
     "iopub.status.busy": "2022-08-24T05:41:02.317079Z",
     "iopub.status.idle": "2022-08-24T05:41:02.322426Z",
     "shell.execute_reply": "2022-08-24T05:41:02.321602Z"
    },
    "papermill": {
     "duration": 0.039039,
     "end_time": "2022-08-24T05:41:02.324890",
     "exception": false,
     "start_time": "2022-08-24T05:41:02.285851",
     "status": "completed"
    },
    "tags": []
   },
   "outputs": [],
   "source": [
    "def inorder(root):\n",
    "    if root:\n",
    "        inorder(root.left)\n",
    "        print(root.data,end=' ')\n",
    "        inorder(root.right)"
   ]
  },
  {
   "cell_type": "code",
   "execution_count": 42,
   "id": "39696dcd",
   "metadata": {
    "execution": {
     "iopub.execute_input": "2022-08-24T05:41:02.387171Z",
     "iopub.status.busy": "2022-08-24T05:41:02.385982Z",
     "iopub.status.idle": "2022-08-24T05:41:02.392964Z",
     "shell.execute_reply": "2022-08-24T05:41:02.391529Z"
    },
    "papermill": {
     "duration": 0.040817,
     "end_time": "2022-08-24T05:41:02.395445",
     "exception": false,
     "start_time": "2022-08-24T05:41:02.354628",
     "status": "completed"
    },
    "tags": []
   },
   "outputs": [
    {
     "name": "stdout",
     "output_type": "stream",
     "text": [
      "The inorder traversal of given binary tree is: \n",
      "4 2 5 1 3 6 "
     ]
    }
   ],
   "source": [
    "print(\"The inorder traversal of given binary tree is: \")\n",
    "inorder(root)"
   ]
  },
  {
   "cell_type": "code",
   "execution_count": null,
   "id": "20419206",
   "metadata": {
    "papermill": {
     "duration": 0.032269,
     "end_time": "2022-08-24T05:41:02.458650",
     "exception": false,
     "start_time": "2022-08-24T05:41:02.426381",
     "status": "completed"
    },
    "tags": []
   },
   "outputs": [],
   "source": []
  },
  {
   "cell_type": "markdown",
   "id": "7ebb8bcf",
   "metadata": {
    "papermill": {
     "duration": 0.02895,
     "end_time": "2022-08-24T05:41:02.518590",
     "exception": false,
     "start_time": "2022-08-24T05:41:02.489640",
     "status": "completed"
    },
    "tags": []
   },
   "source": [
    "<a id=\"content7\"></a>\n",
    "## 7. BSTs\n",
    "\n",
    "**In a BST, at every node, all the values in its left subtree are smaller than it and all the values in right subtree are greater than it.**\n",
    "\n",
    "The approach to construct a BST remains same as in normal binary tree. We can use the same TreeNode class to contruct BST.\n",
    "\n",
    "Lets say we want to create the BST as:\n",
    "\n",
    "                                 10\n",
    "                                /  \\\n",
    "                               7    15\n",
    "                              / \\  /  \\\n",
    "                             3  9  12  18\n",
    "                             \n",
    "This can be achieved as:\n"
   ]
  },
  {
   "cell_type": "code",
   "execution_count": 43,
   "id": "2e9fb978",
   "metadata": {
    "execution": {
     "iopub.execute_input": "2022-08-24T05:41:02.580517Z",
     "iopub.status.busy": "2022-08-24T05:41:02.579708Z",
     "iopub.status.idle": "2022-08-24T05:41:02.586299Z",
     "shell.execute_reply": "2022-08-24T05:41:02.585089Z"
    },
    "papermill": {
     "duration": 0.040224,
     "end_time": "2022-08-24T05:41:02.588716",
     "exception": false,
     "start_time": "2022-08-24T05:41:02.548492",
     "status": "completed"
    },
    "tags": []
   },
   "outputs": [],
   "source": [
    "root=TreeNode(10)\n",
    "\n",
    "root.left=TreeNode(7)\n",
    "root.right=TreeNode(15)\n",
    "\n",
    "root.left.left=TreeNode(3)\n",
    "root.left.right=TreeNode(9)\n",
    "\n",
    "root.right.left=TreeNode(12)\n",
    "root.right.right=TreeNode(18)"
   ]
  },
  {
   "cell_type": "markdown",
   "id": "51e648ef",
   "metadata": {
    "papermill": {
     "duration": 0.029447,
     "end_time": "2022-08-24T05:41:02.647057",
     "exception": false,
     "start_time": "2022-08-24T05:41:02.617610",
     "status": "completed"
    },
    "tags": []
   },
   "source": [
    "**Printing inorder to check if BST is constructed properly!!**"
   ]
  },
  {
   "cell_type": "code",
   "execution_count": 44,
   "id": "f5964036",
   "metadata": {
    "execution": {
     "iopub.execute_input": "2022-08-24T05:41:02.710441Z",
     "iopub.status.busy": "2022-08-24T05:41:02.709341Z",
     "iopub.status.idle": "2022-08-24T05:41:02.716239Z",
     "shell.execute_reply": "2022-08-24T05:41:02.714880Z"
    },
    "papermill": {
     "duration": 0.041312,
     "end_time": "2022-08-24T05:41:02.718777",
     "exception": false,
     "start_time": "2022-08-24T05:41:02.677465",
     "status": "completed"
    },
    "tags": []
   },
   "outputs": [
    {
     "name": "stdout",
     "output_type": "stream",
     "text": [
      "The inorder traversal of given BST is: \n",
      "3 7 9 10 12 15 18 "
     ]
    }
   ],
   "source": [
    "print(\"The inorder traversal of given BST is: \")\n",
    "inorder(root)"
   ]
  },
  {
   "cell_type": "markdown",
   "id": "a2a5acf7",
   "metadata": {
    "papermill": {
     "duration": 0.029997,
     "end_time": "2022-08-24T05:41:02.778526",
     "exception": false,
     "start_time": "2022-08-24T05:41:02.748529",
     "status": "completed"
    },
    "tags": []
   },
   "source": [
    "#### Note that an inorder traversal of a BST is always sorted!!!"
   ]
  },
  {
   "cell_type": "code",
   "execution_count": null,
   "id": "40b84f4f",
   "metadata": {
    "papermill": {
     "duration": 0.029507,
     "end_time": "2022-08-24T05:41:02.837185",
     "exception": false,
     "start_time": "2022-08-24T05:41:02.807678",
     "status": "completed"
    },
    "tags": []
   },
   "outputs": [],
   "source": []
  },
  {
   "cell_type": "markdown",
   "id": "f0c99308",
   "metadata": {
    "papermill": {
     "duration": 0.027624,
     "end_time": "2022-08-24T05:41:02.892846",
     "exception": false,
     "start_time": "2022-08-24T05:41:02.865222",
     "status": "completed"
    },
    "tags": []
   },
   "source": [
    "<a id=\"content8\"></a>\n",
    "## 8. Heap\n",
    "A **heap** has 2 key properties:\n",
    "\n",
    "1. **Complete Binary Tree:** All the levels are filled fully except the last one which is filled from the left.   &\n",
    "\n",
    "2. **Min/Max heap property:** Every parent's value is lesser(greater in Max heap) than its children."
   ]
  },
  {
   "cell_type": "markdown",
   "id": "300d1f45",
   "metadata": {
    "papermill": {
     "duration": 0.027739,
     "end_time": "2022-08-24T05:41:02.949302",
     "exception": false,
     "start_time": "2022-08-24T05:41:02.921563",
     "status": "completed"
    },
    "tags": []
   },
   "source": [
    "Lets now move onto implementation of Heaps. For that, we shall use the **heapq** module in python.\n",
    "\n",
    "**Also,  note one important thing. In python, when using the _heapq module_, the heap created by default is a min heap. To use it as a max heap insert elements by multiplying by -1 and make sure to repeat the same while consuming the elements popped from the heap !!!**"
   ]
  },
  {
   "cell_type": "code",
   "execution_count": 45,
   "id": "52c2af82",
   "metadata": {
    "execution": {
     "iopub.execute_input": "2022-08-24T05:41:03.006852Z",
     "iopub.status.busy": "2022-08-24T05:41:03.006416Z",
     "iopub.status.idle": "2022-08-24T05:41:03.012755Z",
     "shell.execute_reply": "2022-08-24T05:41:03.011985Z"
    },
    "papermill": {
     "duration": 0.037701,
     "end_time": "2022-08-24T05:41:03.014853",
     "exception": false,
     "start_time": "2022-08-24T05:41:02.977152",
     "status": "completed"
    },
    "tags": []
   },
   "outputs": [
    {
     "data": {
      "text/plain": [
       "[5, 7, 4, 2, 3, 6, 9]"
      ]
     },
     "execution_count": 45,
     "metadata": {},
     "output_type": "execute_result"
    }
   ],
   "source": [
    "arr=[5,7,4,2,3,6,9]\n",
    "arr"
   ]
  },
  {
   "cell_type": "code",
   "execution_count": 46,
   "id": "faaff63a",
   "metadata": {
    "execution": {
     "iopub.execute_input": "2022-08-24T05:41:03.072788Z",
     "iopub.status.busy": "2022-08-24T05:41:03.072359Z",
     "iopub.status.idle": "2022-08-24T05:41:03.078714Z",
     "shell.execute_reply": "2022-08-24T05:41:03.077965Z"
    },
    "papermill": {
     "duration": 0.037824,
     "end_time": "2022-08-24T05:41:03.080710",
     "exception": false,
     "start_time": "2022-08-24T05:41:03.042886",
     "status": "completed"
    },
    "tags": []
   },
   "outputs": [
    {
     "data": {
      "text/plain": [
       "[2, 3, 4, 7, 5, 6, 9]"
      ]
     },
     "execution_count": 46,
     "metadata": {},
     "output_type": "execute_result"
    }
   ],
   "source": [
    "import heapq\n",
    "heap=arr\n",
    "heapq.heapify(heap)\n",
    "heap"
   ]
  },
  {
   "cell_type": "markdown",
   "id": "a72791ab",
   "metadata": {
    "papermill": {
     "duration": 0.027931,
     "end_time": "2022-08-24T05:41:03.136833",
     "exception": false,
     "start_time": "2022-08-24T05:41:03.108902",
     "status": "completed"
    },
    "tags": []
   },
   "source": [
    "This craetes a heap that looks like:\n",
    " \n",
    "                               2\n",
    "                             /   \\\n",
    "                            3     4\n",
    "                           /  \\   / \\\n",
    "                         7    5  6   9"
   ]
  },
  {
   "cell_type": "code",
   "execution_count": 47,
   "id": "7bb3c49a",
   "metadata": {
    "execution": {
     "iopub.execute_input": "2022-08-24T05:41:03.196386Z",
     "iopub.status.busy": "2022-08-24T05:41:03.195735Z",
     "iopub.status.idle": "2022-08-24T05:41:03.202461Z",
     "shell.execute_reply": "2022-08-24T05:41:03.201428Z"
    },
    "papermill": {
     "duration": 0.038775,
     "end_time": "2022-08-24T05:41:03.204977",
     "exception": false,
     "start_time": "2022-08-24T05:41:03.166202",
     "status": "completed"
    },
    "tags": []
   },
   "outputs": [
    {
     "data": {
      "text/plain": [
       "[2, 3, 4, 7, 5, 6, 9, 12, 10]"
      ]
     },
     "execution_count": 47,
     "metadata": {},
     "output_type": "execute_result"
    }
   ],
   "source": [
    "# adding elements to heap\n",
    "heapq.heappush(heap,12)\n",
    "heapq.heappush(heap,10)\n",
    "heap"
   ]
  },
  {
   "cell_type": "code",
   "execution_count": 48,
   "id": "48d0e345",
   "metadata": {
    "execution": {
     "iopub.execute_input": "2022-08-24T05:41:03.264066Z",
     "iopub.status.busy": "2022-08-24T05:41:03.263617Z",
     "iopub.status.idle": "2022-08-24T05:41:03.272347Z",
     "shell.execute_reply": "2022-08-24T05:41:03.270766Z"
    },
    "papermill": {
     "duration": 0.040847,
     "end_time": "2022-08-24T05:41:03.274660",
     "exception": false,
     "start_time": "2022-08-24T05:41:03.233813",
     "status": "completed"
    },
    "tags": []
   },
   "outputs": [
    {
     "name": "stdout",
     "output_type": "stream",
     "text": [
      "2\n"
     ]
    },
    {
     "data": {
      "text/plain": [
       "[3, 5, 4, 7, 10, 6, 9, 12]"
      ]
     },
     "execution_count": 48,
     "metadata": {},
     "output_type": "execute_result"
    }
   ],
   "source": [
    "# popping elements from heap\n",
    "heap_top=heapq.heappop(heap)\n",
    "print(heap_top)\n",
    "heap"
   ]
  },
  {
   "cell_type": "code",
   "execution_count": null,
   "id": "473ed27a",
   "metadata": {
    "papermill": {
     "duration": 0.028282,
     "end_time": "2022-08-24T05:41:03.331745",
     "exception": false,
     "start_time": "2022-08-24T05:41:03.303463",
     "status": "completed"
    },
    "tags": []
   },
   "outputs": [],
   "source": []
  },
  {
   "cell_type": "markdown",
   "id": "3396c819",
   "metadata": {
    "papermill": {
     "duration": 0.028612,
     "end_time": "2022-08-24T05:41:03.388929",
     "exception": false,
     "start_time": "2022-08-24T05:41:03.360317",
     "status": "completed"
    },
    "tags": []
   },
   "source": [
    "<a id=\"content9\"></a>\n",
    "## 9. Graphs\n",
    "\n",
    "Lets now move onto **Graphs**. We will create a class for Graph and then create an instance of the same. \n",
    "\n",
    "We shall then implement standard **BFS** and **DFS** traversals."
   ]
  },
  {
   "cell_type": "code",
   "execution_count": 49,
   "id": "2e5f4e5e",
   "metadata": {
    "execution": {
     "iopub.execute_input": "2022-08-24T05:41:03.448946Z",
     "iopub.status.busy": "2022-08-24T05:41:03.447773Z",
     "iopub.status.idle": "2022-08-24T05:41:03.461348Z",
     "shell.execute_reply": "2022-08-24T05:41:03.460182Z"
    },
    "papermill": {
     "duration": 0.04666,
     "end_time": "2022-08-24T05:41:03.464192",
     "exception": false,
     "start_time": "2022-08-24T05:41:03.417532",
     "status": "completed"
    },
    "tags": []
   },
   "outputs": [],
   "source": [
    "class Graph():\n",
    "    def __init__(self,edges=None,nodes=3,directed=False):\n",
    "        self.edges=edges\n",
    "        self.nodes=nodes\n",
    "        self.isDirected=directed\n",
    "        \n",
    "        self.adj=[[] for _ in range(self.nodes)]\n",
    "        self.createGraph()\n",
    "        \n",
    "        \n",
    "    def createGraph(self):\n",
    "        for (u,v) in self.edges:\n",
    "            self.adj[u].append(v)\n",
    "            if not self.isDirected:\n",
    "                self.adj[v].append(u)\n",
    "    \n",
    "    def bfs(self,source=0):\n",
    "        bfs=[]\n",
    "        visited=[False]*self.nodes\n",
    "        dist=[sys.maxsize]*self.nodes\n",
    "        queue=[]\n",
    "        \n",
    "        visited[source]=True\n",
    "        dist[source]=0\n",
    "        queue.append(source)\n",
    "        \n",
    "        while len(queue)>0:\n",
    "            curr=queue.pop(0)\n",
    "            bfs.append(curr)\n",
    "            for vertex in self.adj[curr]: # traversing adjacency list of currently popped vertex.\n",
    "                if not visited[vertex]:\n",
    "                    visited[vertex]=True\n",
    "                    queue.append(vertex)\n",
    "                    dist[vertex]=dist[curr]+1\n",
    "        \n",
    "        return bfs,dist  \n",
    "    \n",
    "    \n",
    "    def dfs(self,source=0):\n",
    "        dfs=[]\n",
    "        visited=[False]*self.nodes\n",
    "        self.dfsUtil(source,visited,dfs)\n",
    "        return dfs\n",
    "    \n",
    "    def dfsUtil(self,source,visited,dfs):\n",
    "        visited[source]=True\n",
    "        dfs.append(source)\n",
    "        \n",
    "        for vertex in self.adj[source]:\n",
    "            if not visited[vertex]:\n",
    "                self.dfsUtil(vertex,visited,dfs)"
   ]
  },
  {
   "cell_type": "markdown",
   "id": "5a5b95db",
   "metadata": {
    "papermill": {
     "duration": 0.02849,
     "end_time": "2022-08-24T05:41:03.522097",
     "exception": false,
     "start_time": "2022-08-24T05:41:03.493607",
     "status": "completed"
    },
    "tags": []
   },
   "source": [
    "#### Let's now break it down. \n",
    "\n",
    "#### First let us create an object of the class and then try to print its Breadth First Traversal(BFS) and then Depth first Traversal(DFS)"
   ]
  },
  {
   "cell_type": "markdown",
   "id": "efd3f638",
   "metadata": {
    "papermill": {
     "duration": 0.028597,
     "end_time": "2022-08-24T05:41:03.579580",
     "exception": false,
     "start_time": "2022-08-24T05:41:03.550983",
     "status": "completed"
    },
    "tags": []
   },
   "source": [
    "Let' say we want to create the following simple **undirected** graph:\n",
    "\n",
    "                          0-----1\n",
    "                          |     |\n",
    "                          |     |\n",
    "                         2------3      \n",
    "                         \n",
    "  Then we can create it as:"
   ]
  },
  {
   "cell_type": "code",
   "execution_count": 50,
   "id": "33ba3df0",
   "metadata": {
    "execution": {
     "iopub.execute_input": "2022-08-24T05:41:03.638876Z",
     "iopub.status.busy": "2022-08-24T05:41:03.638166Z",
     "iopub.status.idle": "2022-08-24T05:41:03.642698Z",
     "shell.execute_reply": "2022-08-24T05:41:03.641947Z"
    },
    "papermill": {
     "duration": 0.036765,
     "end_time": "2022-08-24T05:41:03.644834",
     "exception": false,
     "start_time": "2022-08-24T05:41:03.608069",
     "status": "completed"
    },
    "tags": []
   },
   "outputs": [],
   "source": [
    "nodes=4\n",
    "edges=[(0,1),(1,3),(3,2),(2,0)]"
   ]
  },
  {
   "cell_type": "code",
   "execution_count": 51,
   "id": "9df9a578",
   "metadata": {
    "execution": {
     "iopub.execute_input": "2022-08-24T05:41:03.706200Z",
     "iopub.status.busy": "2022-08-24T05:41:03.705517Z",
     "iopub.status.idle": "2022-08-24T05:41:03.709543Z",
     "shell.execute_reply": "2022-08-24T05:41:03.708840Z"
    },
    "papermill": {
     "duration": 0.036995,
     "end_time": "2022-08-24T05:41:03.711548",
     "exception": false,
     "start_time": "2022-08-24T05:41:03.674553",
     "status": "completed"
    },
    "tags": []
   },
   "outputs": [],
   "source": [
    "graph=Graph(edges,nodes)"
   ]
  },
  {
   "cell_type": "code",
   "execution_count": null,
   "id": "5fc6cc61",
   "metadata": {
    "papermill": {
     "duration": 0.036821,
     "end_time": "2022-08-24T05:41:03.776833",
     "exception": false,
     "start_time": "2022-08-24T05:41:03.740012",
     "status": "completed"
    },
    "tags": []
   },
   "outputs": [],
   "source": []
  },
  {
   "cell_type": "markdown",
   "id": "2b21841e",
   "metadata": {
    "papermill": {
     "duration": 0.027753,
     "end_time": "2022-08-24T05:41:03.832723",
     "exception": false,
     "start_time": "2022-08-24T05:41:03.804970",
     "status": "completed"
    },
    "tags": []
   },
   "source": [
    "### Sample Program: BFS & DFS Traversals.\n",
    "\n",
    "To see if the graph is printed correctly, lets print its bfs from vertex 0."
   ]
  },
  {
   "cell_type": "code",
   "execution_count": 52,
   "id": "4a5a737c",
   "metadata": {
    "execution": {
     "iopub.execute_input": "2022-08-24T05:41:03.891890Z",
     "iopub.status.busy": "2022-08-24T05:41:03.891213Z",
     "iopub.status.idle": "2022-08-24T05:41:03.898128Z",
     "shell.execute_reply": "2022-08-24T05:41:03.896666Z"
    },
    "papermill": {
     "duration": 0.04006,
     "end_time": "2022-08-24T05:41:03.901052",
     "exception": false,
     "start_time": "2022-08-24T05:41:03.860992",
     "status": "completed"
    },
    "tags": []
   },
   "outputs": [
    {
     "name": "stdout",
     "output_type": "stream",
     "text": [
      "The BFS of the given graph with source '0' is:  [0, 1, 2, 3]\n",
      "The distances from the source '0' are:  [0, 1, 1, 2]\n",
      "\n",
      "\n",
      "\n",
      "The BFS of the given graph with source '2' is:  [2, 3, 0, 1]\n",
      "The distances from the source '2' are:  [1, 2, 0, 1]\n"
     ]
    }
   ],
   "source": [
    "source=0\n",
    "bfs,dist=graph.bfs(source)\n",
    "print(\"The BFS of the given graph with source '0' is: \",bfs) # source=0\n",
    "print(\"The distances from the source '0' are: \",dist)\n",
    "\n",
    "print('\\n\\n')\n",
    "source=2\n",
    "bfs,dist=graph.bfs(source)\n",
    "print(\"The BFS of the given graph with source '2' is: \",bfs) # source=2\n",
    "print(\"The distances from the source '2' are: \",dist)"
   ]
  },
  {
   "cell_type": "code",
   "execution_count": null,
   "id": "73747b61",
   "metadata": {
    "papermill": {
     "duration": 0.028214,
     "end_time": "2022-08-24T05:41:03.958726",
     "exception": false,
     "start_time": "2022-08-24T05:41:03.930512",
     "status": "completed"
    },
    "tags": []
   },
   "outputs": [],
   "source": []
  },
  {
   "cell_type": "code",
   "execution_count": 53,
   "id": "69af514d",
   "metadata": {
    "execution": {
     "iopub.execute_input": "2022-08-24T05:41:04.017309Z",
     "iopub.status.busy": "2022-08-24T05:41:04.016916Z",
     "iopub.status.idle": "2022-08-24T05:41:04.023181Z",
     "shell.execute_reply": "2022-08-24T05:41:04.022142Z"
    },
    "papermill": {
     "duration": 0.038388,
     "end_time": "2022-08-24T05:41:04.025650",
     "exception": false,
     "start_time": "2022-08-24T05:41:03.987262",
     "status": "completed"
    },
    "tags": []
   },
   "outputs": [
    {
     "name": "stdout",
     "output_type": "stream",
     "text": [
      "The DFS of the given graph with source '0' is:  [0, 1, 3, 2]\n",
      "The DFS of the given graph with source '3' is:  [3, 1, 0, 2]\n"
     ]
    }
   ],
   "source": [
    "source=0\n",
    "dfs=graph.dfs(source)\n",
    "print(\"The DFS of the given graph with source '0' is: \",dfs) # source=0\n",
    " \n",
    "    \n",
    "source=3\n",
    "dfs=graph.dfs(source)\n",
    "print(\"The DFS of the given graph with source '3' is: \",dfs) # source=3\n",
    " "
   ]
  },
  {
   "cell_type": "code",
   "execution_count": null,
   "id": "260132c3",
   "metadata": {
    "papermill": {
     "duration": 0.028836,
     "end_time": "2022-08-24T05:41:04.083993",
     "exception": false,
     "start_time": "2022-08-24T05:41:04.055157",
     "status": "completed"
    },
    "tags": []
   },
   "outputs": [],
   "source": []
  },
  {
   "cell_type": "markdown",
   "id": "8d3d2b68",
   "metadata": {
    "papermill": {
     "duration": 0.028174,
     "end_time": "2022-08-24T05:41:04.142001",
     "exception": false,
     "start_time": "2022-08-24T05:41:04.113827",
     "status": "completed"
    },
    "tags": []
   },
   "source": [
    "<a id=\"content10\"></a>\n",
    "## 10. Sets"
   ]
  },
  {
   "cell_type": "code",
   "execution_count": 54,
   "id": "e9666139",
   "metadata": {
    "execution": {
     "iopub.execute_input": "2022-08-24T05:41:04.201619Z",
     "iopub.status.busy": "2022-08-24T05:41:04.201226Z",
     "iopub.status.idle": "2022-08-24T05:41:04.207027Z",
     "shell.execute_reply": "2022-08-24T05:41:04.206239Z"
    },
    "papermill": {
     "duration": 0.039972,
     "end_time": "2022-08-24T05:41:04.210902",
     "exception": false,
     "start_time": "2022-08-24T05:41:04.170930",
     "status": "completed"
    },
    "tags": []
   },
   "outputs": [
    {
     "name": "stdout",
     "output_type": "stream",
     "text": [
      "set1: {2, 4, 5, 6, 7} len of set1: 5\n",
      "set2: {1, 4, 5, 9} len of set2: 4\n"
     ]
    }
   ],
   "source": [
    "set1=set([2,4,7,6,5,4,5])\n",
    "set2=set([1,5,9,4])\n",
    "print(\"set1:\",set1,\"len of set1:\",len(set1))\n",
    "print(\"set2:\",set2,\"len of set2:\",len(set2))"
   ]
  },
  {
   "cell_type": "code",
   "execution_count": 55,
   "id": "5e7a271b",
   "metadata": {
    "execution": {
     "iopub.execute_input": "2022-08-24T05:41:04.272281Z",
     "iopub.status.busy": "2022-08-24T05:41:04.271653Z",
     "iopub.status.idle": "2022-08-24T05:41:04.278405Z",
     "shell.execute_reply": "2022-08-24T05:41:04.277280Z"
    },
    "papermill": {
     "duration": 0.039387,
     "end_time": "2022-08-24T05:41:04.280859",
     "exception": false,
     "start_time": "2022-08-24T05:41:04.241472",
     "status": "completed"
    },
    "tags": []
   },
   "outputs": [
    {
     "name": "stdout",
     "output_type": "stream",
     "text": [
      "{2, 4, 5, 6, 7, 9}\n"
     ]
    },
    {
     "data": {
      "text/plain": [
       "{4, 5, 9}"
      ]
     },
     "execution_count": 55,
     "metadata": {},
     "output_type": "execute_result"
    }
   ],
   "source": [
    "# Adding and deleting element in set\n",
    "set1.add(9)\n",
    "print(set1)\n",
    "set2.remove(1)\n",
    "set2"
   ]
  },
  {
   "cell_type": "markdown",
   "id": "03af0992",
   "metadata": {
    "papermill": {
     "duration": 0.02824,
     "end_time": "2022-08-24T05:41:04.337763",
     "exception": false,
     "start_time": "2022-08-24T05:41:04.309523",
     "status": "completed"
    },
    "tags": []
   },
   "source": [
    "**Just like maths, we can use some basic set operations in Python!**"
   ]
  },
  {
   "cell_type": "code",
   "execution_count": 56,
   "id": "cbca2e18",
   "metadata": {
    "execution": {
     "iopub.execute_input": "2022-08-24T05:41:04.397930Z",
     "iopub.status.busy": "2022-08-24T05:41:04.396910Z",
     "iopub.status.idle": "2022-08-24T05:41:04.402967Z",
     "shell.execute_reply": "2022-08-24T05:41:04.402188Z"
    },
    "papermill": {
     "duration": 0.038004,
     "end_time": "2022-08-24T05:41:04.404922",
     "exception": false,
     "start_time": "2022-08-24T05:41:04.366918",
     "status": "completed"
    },
    "tags": []
   },
   "outputs": [
    {
     "data": {
      "text/plain": [
       "{4, 5, 9}"
      ]
     },
     "execution_count": 56,
     "metadata": {},
     "output_type": "execute_result"
    }
   ],
   "source": [
    "#Intersection\n",
    "common=set1.intersection(set2)\n",
    "common"
   ]
  },
  {
   "cell_type": "code",
   "execution_count": 57,
   "id": "89f070f7",
   "metadata": {
    "execution": {
     "iopub.execute_input": "2022-08-24T05:41:04.464536Z",
     "iopub.status.busy": "2022-08-24T05:41:04.463812Z",
     "iopub.status.idle": "2022-08-24T05:41:04.469734Z",
     "shell.execute_reply": "2022-08-24T05:41:04.468911Z"
    },
    "papermill": {
     "duration": 0.038129,
     "end_time": "2022-08-24T05:41:04.471985",
     "exception": false,
     "start_time": "2022-08-24T05:41:04.433856",
     "status": "completed"
    },
    "tags": []
   },
   "outputs": [
    {
     "data": {
      "text/plain": [
       "{2, 4, 5, 6, 7, 9}"
      ]
     },
     "execution_count": 57,
     "metadata": {},
     "output_type": "execute_result"
    }
   ],
   "source": [
    "#Union\n",
    "all_elem=set1.union(set2)\n",
    "all_elem"
   ]
  },
  {
   "cell_type": "code",
   "execution_count": 58,
   "id": "0a4a6831",
   "metadata": {
    "execution": {
     "iopub.execute_input": "2022-08-24T05:41:04.532340Z",
     "iopub.status.busy": "2022-08-24T05:41:04.531612Z",
     "iopub.status.idle": "2022-08-24T05:41:04.537499Z",
     "shell.execute_reply": "2022-08-24T05:41:04.536724Z"
    },
    "papermill": {
     "duration": 0.03856,
     "end_time": "2022-08-24T05:41:04.539629",
     "exception": false,
     "start_time": "2022-08-24T05:41:04.501069",
     "status": "completed"
    },
    "tags": []
   },
   "outputs": [
    {
     "data": {
      "text/plain": [
       "{2, 6, 7}"
      ]
     },
     "execution_count": 58,
     "metadata": {},
     "output_type": "execute_result"
    }
   ],
   "source": [
    "#difference\n",
    "diff=set1.difference(set2) # set1-set2.\n",
    "diff"
   ]
  },
  {
   "cell_type": "code",
   "execution_count": null,
   "id": "7842c755",
   "metadata": {
    "papermill": {
     "duration": 0.029177,
     "end_time": "2022-08-24T05:41:04.597826",
     "exception": false,
     "start_time": "2022-08-24T05:41:04.568649",
     "status": "completed"
    },
    "tags": []
   },
   "outputs": [],
   "source": []
  },
  {
   "cell_type": "markdown",
   "id": "ee7954d2",
   "metadata": {
    "papermill": {
     "duration": 0.028588,
     "end_time": "2022-08-24T05:41:04.655824",
     "exception": false,
     "start_time": "2022-08-24T05:41:04.627236",
     "status": "completed"
    },
    "tags": []
   },
   "source": [
    "<a id=\"content11\"></a>\n",
    "## 11. Hashmaps\n",
    "\n",
    "Let's move onto our final DS now: **hashmaps**. \n",
    "\n",
    "We can simply use the dictinary in python. Also note that a hashmap is often required to store counts of various items like strings, numbers etc. in python we can use a **Counter** object for that!"
   ]
  },
  {
   "cell_type": "code",
   "execution_count": 59,
   "id": "3b01e9ed",
   "metadata": {
    "execution": {
     "iopub.execute_input": "2022-08-24T05:41:04.715380Z",
     "iopub.status.busy": "2022-08-24T05:41:04.714985Z",
     "iopub.status.idle": "2022-08-24T05:41:04.720209Z",
     "shell.execute_reply": "2022-08-24T05:41:04.719042Z"
    },
    "papermill": {
     "duration": 0.037663,
     "end_time": "2022-08-24T05:41:04.722449",
     "exception": false,
     "start_time": "2022-08-24T05:41:04.684786",
     "status": "completed"
    },
    "tags": []
   },
   "outputs": [],
   "source": [
    "from collections import Counter"
   ]
  },
  {
   "cell_type": "code",
   "execution_count": 60,
   "id": "28a44efc",
   "metadata": {
    "execution": {
     "iopub.execute_input": "2022-08-24T05:41:04.782100Z",
     "iopub.status.busy": "2022-08-24T05:41:04.781670Z",
     "iopub.status.idle": "2022-08-24T05:41:04.787743Z",
     "shell.execute_reply": "2022-08-24T05:41:04.786918Z"
    },
    "papermill": {
     "duration": 0.038409,
     "end_time": "2022-08-24T05:41:04.789744",
     "exception": false,
     "start_time": "2022-08-24T05:41:04.751335",
     "status": "completed"
    },
    "tags": []
   },
   "outputs": [
    {
     "data": {
      "text/plain": [
       "[3, 5, 4, 7, 10, 6, 9, 12]"
      ]
     },
     "execution_count": 60,
     "metadata": {},
     "output_type": "execute_result"
    }
   ],
   "source": [
    "arr"
   ]
  },
  {
   "cell_type": "code",
   "execution_count": 61,
   "id": "b7c7a39a",
   "metadata": {
    "execution": {
     "iopub.execute_input": "2022-08-24T05:41:04.850070Z",
     "iopub.status.busy": "2022-08-24T05:41:04.849239Z",
     "iopub.status.idle": "2022-08-24T05:41:04.857067Z",
     "shell.execute_reply": "2022-08-24T05:41:04.856182Z"
    },
    "papermill": {
     "duration": 0.040369,
     "end_time": "2022-08-24T05:41:04.859142",
     "exception": false,
     "start_time": "2022-08-24T05:41:04.818773",
     "status": "completed"
    },
    "tags": []
   },
   "outputs": [
    {
     "data": {
      "text/plain": [
       "Counter({3: 1, 5: 1, 4: 1, 7: 1, 10: 1, 6: 1, 9: 1, 12: 1})"
      ]
     },
     "execution_count": 61,
     "metadata": {},
     "output_type": "execute_result"
    }
   ],
   "source": [
    "counts=Counter(arr)\n",
    "counts"
   ]
  },
  {
   "cell_type": "code",
   "execution_count": 62,
   "id": "6db0a169",
   "metadata": {
    "execution": {
     "iopub.execute_input": "2022-08-24T05:41:04.919040Z",
     "iopub.status.busy": "2022-08-24T05:41:04.918596Z",
     "iopub.status.idle": "2022-08-24T05:41:04.925923Z",
     "shell.execute_reply": "2022-08-24T05:41:04.924897Z"
    },
    "papermill": {
     "duration": 0.04032,
     "end_time": "2022-08-24T05:41:04.928589",
     "exception": false,
     "start_time": "2022-08-24T05:41:04.888269",
     "status": "completed"
    },
    "tags": []
   },
   "outputs": [
    {
     "data": {
      "text/plain": [
       "Counter({'H': 1,\n",
       "         'i': 4,\n",
       "         ' ': 14,\n",
       "         'C': 1,\n",
       "         'a': 3,\n",
       "         'n': 6,\n",
       "         'y': 1,\n",
       "         'o': 5,\n",
       "         'u': 3,\n",
       "         'p': 1,\n",
       "         'l': 2,\n",
       "         'e': 10,\n",
       "         's': 5,\n",
       "         'c': 5,\n",
       "         't': 7,\n",
       "         'h': 3,\n",
       "         'f': 1,\n",
       "         'm': 1,\n",
       "         'r': 2})"
      ]
     },
     "execution_count": 62,
     "metadata": {},
     "output_type": "execute_result"
    }
   ],
   "source": [
    "string='Hi Can you please count the no of times each letter occurs in this sentecne'\n",
    "counts_str=Counter(string)\n",
    "counts_str"
   ]
  },
  {
   "cell_type": "code",
   "execution_count": null,
   "id": "be093e93",
   "metadata": {
    "papermill": {
     "duration": 0.028766,
     "end_time": "2022-08-24T05:41:04.986927",
     "exception": false,
     "start_time": "2022-08-24T05:41:04.958161",
     "status": "completed"
    },
    "tags": []
   },
   "outputs": [],
   "source": []
  },
  {
   "cell_type": "markdown",
   "id": "a2ad48a1",
   "metadata": {
    "papermill": {
     "duration": 0.047788,
     "end_time": "2022-08-24T05:41:05.064468",
     "exception": false,
     "start_time": "2022-08-24T05:41:05.016680",
     "status": "completed"
    },
    "tags": []
   },
   "source": [
    "#### Some useful methods on counter object in python"
   ]
  },
  {
   "cell_type": "markdown",
   "id": "8ad0dff1",
   "metadata": {
    "papermill": {
     "duration": 0.029022,
     "end_time": "2022-08-24T05:41:05.123071",
     "exception": false,
     "start_time": "2022-08-24T05:41:05.094049",
     "status": "completed"
    },
    "tags": []
   },
   "source": [
    "**Sorting a counter object**"
   ]
  },
  {
   "cell_type": "code",
   "execution_count": 63,
   "id": "6e9821fd",
   "metadata": {
    "execution": {
     "iopub.execute_input": "2022-08-24T05:41:05.183370Z",
     "iopub.status.busy": "2022-08-24T05:41:05.182608Z",
     "iopub.status.idle": "2022-08-24T05:41:05.189884Z",
     "shell.execute_reply": "2022-08-24T05:41:05.189170Z"
    },
    "papermill": {
     "duration": 0.039603,
     "end_time": "2022-08-24T05:41:05.191822",
     "exception": false,
     "start_time": "2022-08-24T05:41:05.152219",
     "status": "completed"
    },
    "tags": []
   },
   "outputs": [
    {
     "data": {
      "text/plain": [
       "[(' ', 14),\n",
       " ('e', 10),\n",
       " ('t', 7),\n",
       " ('n', 6),\n",
       " ('o', 5),\n",
       " ('s', 5),\n",
       " ('c', 5),\n",
       " ('i', 4),\n",
       " ('a', 3),\n",
       " ('u', 3),\n",
       " ('h', 3),\n",
       " ('l', 2),\n",
       " ('r', 2),\n",
       " ('H', 1),\n",
       " ('C', 1),\n",
       " ('y', 1),\n",
       " ('p', 1),\n",
       " ('f', 1),\n",
       " ('m', 1)]"
      ]
     },
     "execution_count": 63,
     "metadata": {},
     "output_type": "execute_result"
    }
   ],
   "source": [
    "import operator\n",
    "\n",
    "# BOTH OF THESE WAYS WORKS!!!\n",
    "#counts_str=sorted(counts_str.items(),key=operator.itemgetter(1))\n",
    "counts=sorted(counts_str.items(),key=lambda kv:kv[1],reverse=True) # Use 0 to sort by 'key'\n",
    "counts"
   ]
  },
  {
   "cell_type": "markdown",
   "id": "1a387fa5",
   "metadata": {
    "papermill": {
     "duration": 0.028922,
     "end_time": "2022-08-24T05:41:05.250512",
     "exception": false,
     "start_time": "2022-08-24T05:41:05.221590",
     "status": "completed"
    },
    "tags": []
   },
   "source": [
    "**Top k most frequent keys**"
   ]
  },
  {
   "cell_type": "code",
   "execution_count": 64,
   "id": "4acae8bc",
   "metadata": {
    "execution": {
     "iopub.execute_input": "2022-08-24T05:41:05.310564Z",
     "iopub.status.busy": "2022-08-24T05:41:05.309877Z",
     "iopub.status.idle": "2022-08-24T05:41:05.315910Z",
     "shell.execute_reply": "2022-08-24T05:41:05.315170Z"
    },
    "papermill": {
     "duration": 0.038075,
     "end_time": "2022-08-24T05:41:05.317829",
     "exception": false,
     "start_time": "2022-08-24T05:41:05.279754",
     "status": "completed"
    },
    "tags": []
   },
   "outputs": [
    {
     "data": {
      "text/plain": [
       "Counter({'H': 1,\n",
       "         'i': 4,\n",
       "         ' ': 14,\n",
       "         'C': 1,\n",
       "         'a': 3,\n",
       "         'n': 6,\n",
       "         'y': 1,\n",
       "         'o': 5,\n",
       "         'u': 3,\n",
       "         'p': 1,\n",
       "         'l': 2,\n",
       "         'e': 10,\n",
       "         's': 5,\n",
       "         'c': 5,\n",
       "         't': 7,\n",
       "         'h': 3,\n",
       "         'f': 1,\n",
       "         'm': 1,\n",
       "         'r': 2})"
      ]
     },
     "execution_count": 64,
     "metadata": {},
     "output_type": "execute_result"
    }
   ],
   "source": [
    "counts_str"
   ]
  },
  {
   "cell_type": "code",
   "execution_count": 65,
   "id": "db7d6266",
   "metadata": {
    "execution": {
     "iopub.execute_input": "2022-08-24T05:41:05.378922Z",
     "iopub.status.busy": "2022-08-24T05:41:05.378209Z",
     "iopub.status.idle": "2022-08-24T05:41:05.384463Z",
     "shell.execute_reply": "2022-08-24T05:41:05.383735Z"
    },
    "papermill": {
     "duration": 0.038935,
     "end_time": "2022-08-24T05:41:05.386376",
     "exception": false,
     "start_time": "2022-08-24T05:41:05.347441",
     "status": "completed"
    },
    "tags": []
   },
   "outputs": [
    {
     "data": {
      "text/plain": [
       "[(' ', 14), ('e', 10), ('t', 7)]"
      ]
     },
     "execution_count": 65,
     "metadata": {},
     "output_type": "execute_result"
    }
   ],
   "source": [
    "k=3\n",
    "topk=counts_str.most_common(k)\n",
    "topk"
   ]
  },
  {
   "cell_type": "markdown",
   "id": "d1de597d",
   "metadata": {
    "papermill": {
     "duration": 0.029313,
     "end_time": "2022-08-24T05:41:05.445033",
     "exception": false,
     "start_time": "2022-08-24T05:41:05.415720",
     "status": "completed"
    },
    "tags": []
   },
   "source": [
    "**Converting to List**\n"
   ]
  },
  {
   "cell_type": "code",
   "execution_count": 66,
   "id": "349238c7",
   "metadata": {
    "execution": {
     "iopub.execute_input": "2022-08-24T05:41:05.506746Z",
     "iopub.status.busy": "2022-08-24T05:41:05.506045Z",
     "iopub.status.idle": "2022-08-24T05:41:05.513072Z",
     "shell.execute_reply": "2022-08-24T05:41:05.512145Z"
    },
    "papermill": {
     "duration": 0.040217,
     "end_time": "2022-08-24T05:41:05.515115",
     "exception": false,
     "start_time": "2022-08-24T05:41:05.474898",
     "status": "completed"
    },
    "tags": []
   },
   "outputs": [
    {
     "data": {
      "text/plain": [
       "['H',\n",
       " 'i',\n",
       " 'i',\n",
       " 'i',\n",
       " 'i',\n",
       " ' ',\n",
       " ' ',\n",
       " ' ',\n",
       " ' ',\n",
       " ' ',\n",
       " ' ',\n",
       " ' ',\n",
       " ' ',\n",
       " ' ',\n",
       " ' ',\n",
       " ' ',\n",
       " ' ',\n",
       " ' ',\n",
       " ' ',\n",
       " 'C',\n",
       " 'a',\n",
       " 'a',\n",
       " 'a',\n",
       " 'n',\n",
       " 'n',\n",
       " 'n',\n",
       " 'n',\n",
       " 'n',\n",
       " 'n',\n",
       " 'y',\n",
       " 'o',\n",
       " 'o',\n",
       " 'o',\n",
       " 'o',\n",
       " 'o',\n",
       " 'u',\n",
       " 'u',\n",
       " 'u',\n",
       " 'p',\n",
       " 'l',\n",
       " 'l',\n",
       " 'e',\n",
       " 'e',\n",
       " 'e',\n",
       " 'e',\n",
       " 'e',\n",
       " 'e',\n",
       " 'e',\n",
       " 'e',\n",
       " 'e',\n",
       " 'e',\n",
       " 's',\n",
       " 's',\n",
       " 's',\n",
       " 's',\n",
       " 's',\n",
       " 'c',\n",
       " 'c',\n",
       " 'c',\n",
       " 'c',\n",
       " 'c',\n",
       " 't',\n",
       " 't',\n",
       " 't',\n",
       " 't',\n",
       " 't',\n",
       " 't',\n",
       " 't',\n",
       " 'h',\n",
       " 'h',\n",
       " 'h',\n",
       " 'f',\n",
       " 'm',\n",
       " 'r',\n",
       " 'r']"
      ]
     },
     "execution_count": 66,
     "metadata": {},
     "output_type": "execute_result"
    }
   ],
   "source": [
    "letters=list(counts_str.elements())\n",
    "letters"
   ]
  },
  {
   "cell_type": "code",
   "execution_count": null,
   "id": "dd9825d2",
   "metadata": {
    "papermill": {
     "duration": 0.029727,
     "end_time": "2022-08-24T05:41:05.574715",
     "exception": false,
     "start_time": "2022-08-24T05:41:05.544988",
     "status": "completed"
    },
    "tags": []
   },
   "outputs": [],
   "source": []
  },
  {
   "cell_type": "markdown",
   "id": "e29481db",
   "metadata": {
    "papermill": {
     "duration": 0.030003,
     "end_time": "2022-08-24T05:41:05.634836",
     "exception": false,
     "start_time": "2022-08-24T05:41:05.604833",
     "status": "completed"
    },
    "tags": []
   },
   "source": [
    "**Arithmetic Operations on Counters**.\n",
    "\n",
    "\n",
    "Note that this is also supported."
   ]
  },
  {
   "cell_type": "code",
   "execution_count": 67,
   "id": "0050f62d",
   "metadata": {
    "execution": {
     "iopub.execute_input": "2022-08-24T05:41:05.698538Z",
     "iopub.status.busy": "2022-08-24T05:41:05.697818Z",
     "iopub.status.idle": "2022-08-24T05:41:05.702382Z",
     "shell.execute_reply": "2022-08-24T05:41:05.701622Z"
    },
    "papermill": {
     "duration": 0.038098,
     "end_time": "2022-08-24T05:41:05.704417",
     "exception": false,
     "start_time": "2022-08-24T05:41:05.666319",
     "status": "completed"
    },
    "tags": []
   },
   "outputs": [],
   "source": [
    "counter1=Counter([1,2,2,3,1,1,3])\n",
    "counter2=Counter([4,4,5,6,6,2,1,3])"
   ]
  },
  {
   "cell_type": "code",
   "execution_count": 68,
   "id": "bc56439d",
   "metadata": {
    "execution": {
     "iopub.execute_input": "2022-08-24T05:41:05.766156Z",
     "iopub.status.busy": "2022-08-24T05:41:05.765476Z",
     "iopub.status.idle": "2022-08-24T05:41:05.771751Z",
     "shell.execute_reply": "2022-08-24T05:41:05.770733Z"
    },
    "papermill": {
     "duration": 0.039607,
     "end_time": "2022-08-24T05:41:05.773985",
     "exception": false,
     "start_time": "2022-08-24T05:41:05.734378",
     "status": "completed"
    },
    "tags": []
   },
   "outputs": [
    {
     "data": {
      "text/plain": [
       "Counter({1: 4, 2: 3, 3: 3, 4: 2, 5: 1, 6: 2})"
      ]
     },
     "execution_count": 68,
     "metadata": {},
     "output_type": "execute_result"
    }
   ],
   "source": [
    "#sum\n",
    "counter1+counter2"
   ]
  },
  {
   "cell_type": "code",
   "execution_count": 69,
   "id": "a02d6def",
   "metadata": {
    "execution": {
     "iopub.execute_input": "2022-08-24T05:41:05.839132Z",
     "iopub.status.busy": "2022-08-24T05:41:05.838706Z",
     "iopub.status.idle": "2022-08-24T05:41:05.844599Z",
     "shell.execute_reply": "2022-08-24T05:41:05.843882Z"
    },
    "papermill": {
     "duration": 0.038957,
     "end_time": "2022-08-24T05:41:05.846594",
     "exception": false,
     "start_time": "2022-08-24T05:41:05.807637",
     "status": "completed"
    },
    "tags": []
   },
   "outputs": [
    {
     "data": {
      "text/plain": [
       "Counter({1: 2, 2: 1, 3: 1})"
      ]
     },
     "execution_count": 69,
     "metadata": {},
     "output_type": "execute_result"
    }
   ],
   "source": [
    "#difference\n",
    "counter1-counter2"
   ]
  },
  {
   "cell_type": "code",
   "execution_count": null,
   "id": "174ebabf",
   "metadata": {
    "papermill": {
     "duration": 0.029432,
     "end_time": "2022-08-24T05:41:05.905944",
     "exception": false,
     "start_time": "2022-08-24T05:41:05.876512",
     "status": "completed"
    },
    "tags": []
   },
   "outputs": [],
   "source": []
  },
  {
   "cell_type": "code",
   "execution_count": null,
   "id": "5ebcd853",
   "metadata": {
    "papermill": {
     "duration": 0.029965,
     "end_time": "2022-08-24T05:41:05.966459",
     "exception": false,
     "start_time": "2022-08-24T05:41:05.936494",
     "status": "completed"
    },
    "tags": []
   },
   "outputs": [],
   "source": []
  },
  {
   "cell_type": "markdown",
   "id": "0a474519",
   "metadata": {
    "papermill": {
     "duration": 0.02969,
     "end_time": "2022-08-24T05:41:06.026300",
     "exception": false,
     "start_time": "2022-08-24T05:41:05.996610",
     "status": "completed"
    },
    "tags": []
   },
   "source": [
    "#### Hope you liked it, and if you did, make sure to drop a 👍 !\n",
    "\n",
    "Thanks, Bye!"
   ]
  },
  {
   "cell_type": "code",
   "execution_count": null,
   "id": "f9d671cd",
   "metadata": {
    "papermill": {
     "duration": 0.029632,
     "end_time": "2022-08-24T05:41:06.086208",
     "exception": false,
     "start_time": "2022-08-24T05:41:06.056576",
     "status": "completed"
    },
    "tags": []
   },
   "outputs": [],
   "source": []
  },
  {
   "cell_type": "markdown",
   "id": "c034a02e",
   "metadata": {
    "papermill": {
     "duration": 0.029861,
     "end_time": "2022-08-24T05:41:06.145980",
     "exception": false,
     "start_time": "2022-08-24T05:41:06.116119",
     "status": "completed"
    },
    "tags": []
   },
   "source": [
    "## Link to other kernels in the series:\n",
    "\n",
    "i. [Pandas: A Complete Pandas Tutorial](https://www.kaggle.com/code/rajmehra03/a-complete-pandas-tutorial)\n",
    "\n",
    "ii. [Numpy: A Complete Guide to Numpy](https://www.kaggle.com/code/rajmehra03/a-complete-guide-to-numpy/)"
   ]
  },
  {
   "cell_type": "code",
   "execution_count": null,
   "id": "eff1173f",
   "metadata": {
    "papermill": {
     "duration": 0.029774,
     "end_time": "2022-08-24T05:41:06.205934",
     "exception": false,
     "start_time": "2022-08-24T05:41:06.176160",
     "status": "completed"
    },
    "tags": []
   },
   "outputs": [],
   "source": []
  },
  {
   "cell_type": "markdown",
   "id": "cd768aef",
   "metadata": {
    "papermill": {
     "duration": 0.030097,
     "end_time": "2022-08-24T05:41:06.266232",
     "exception": false,
     "start_time": "2022-08-24T05:41:06.236135",
     "status": "completed"
    },
    "tags": []
   },
   "source": [
    "## Rough"
   ]
  },
  {
   "cell_type": "code",
   "execution_count": 70,
   "id": "e760d6a9",
   "metadata": {
    "execution": {
     "iopub.execute_input": "2022-08-24T05:41:06.329396Z",
     "iopub.status.busy": "2022-08-24T05:41:06.328261Z",
     "iopub.status.idle": "2022-08-24T05:41:06.336242Z",
     "shell.execute_reply": "2022-08-24T05:41:06.335082Z"
    },
    "papermill": {
     "duration": 0.041727,
     "end_time": "2022-08-24T05:41:06.338535",
     "exception": false,
     "start_time": "2022-08-24T05:41:06.296808",
     "status": "completed"
    },
    "tags": []
   },
   "outputs": [
    {
     "data": {
      "text/plain": [
       "([10, 11], [10, 11])"
      ]
     },
     "execution_count": 70,
     "metadata": {},
     "output_type": "execute_result"
    }
   ],
   "source": [
    "a=[10]\n",
    "b=a\n",
    "b.append(11)\n",
    "a,b # interesting!"
   ]
  },
  {
   "cell_type": "code",
   "execution_count": 71,
   "id": "9dce7f98",
   "metadata": {
    "execution": {
     "iopub.execute_input": "2022-08-24T05:41:06.401406Z",
     "iopub.status.busy": "2022-08-24T05:41:06.401027Z",
     "iopub.status.idle": "2022-08-24T05:41:06.407080Z",
     "shell.execute_reply": "2022-08-24T05:41:06.406054Z"
    },
    "papermill": {
     "duration": 0.040132,
     "end_time": "2022-08-24T05:41:06.409360",
     "exception": false,
     "start_time": "2022-08-24T05:41:06.369228",
     "status": "completed"
    },
    "tags": []
   },
   "outputs": [
    {
     "data": {
      "text/plain": [
       "9223372036854775807"
      ]
     },
     "execution_count": 71,
     "metadata": {},
     "output_type": "execute_result"
    }
   ],
   "source": [
    "import sys\n",
    "sys.maxsize"
   ]
  }
 ],
 "metadata": {
  "kernelspec": {
   "display_name": "Python 3",
   "language": "python",
   "name": "python3"
  },
  "language_info": {
   "codemirror_mode": {
    "name": "ipython",
    "version": 3
   },
   "file_extension": ".py",
   "mimetype": "text/x-python",
   "name": "python",
   "nbconvert_exporter": "python",
   "pygments_lexer": "ipython3",
   "version": "3.7.12"
  },
  "papermill": {
   "default_parameters": {},
   "duration": 18.465076,
   "end_time": "2022-08-24T05:41:07.162617",
   "environment_variables": {},
   "exception": null,
   "input_path": "__notebook__.ipynb",
   "output_path": "__notebook__.ipynb",
   "parameters": {},
   "start_time": "2022-08-24T05:40:48.697541",
   "version": "2.3.4"
  }
 },
 "nbformat": 4,
 "nbformat_minor": 5
}
